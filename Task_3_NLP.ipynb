{
  "nbformat": 4,
  "nbformat_minor": 0,
  "metadata": {
    "colab": {
      "name": "Task_3_NLP.ipynb",
      "provenance": [],
      "collapsed_sections": []
    },
    "kernelspec": {
      "name": "python3",
      "display_name": "Python 3"
    },
    "language_info": {
      "name": "python"
    }
  },
  "cells": [
    {
      "cell_type": "markdown",
      "metadata": {
        "id": "WyKAheTINKnH"
      },
      "source": [
        "# Task 3 NLP \n",
        "\n",
        "Goal: To predict the \"Primary Category\" of the product using given data.\n",
        "\n",
        "**By Atharv Jariath**"
      ]
    },
    {
      "cell_type": "code",
      "metadata": {
        "id": "eqiHa11_-N1S"
      },
      "source": [
        ""
      ],
      "execution_count": null,
      "outputs": []
    },
    {
      "cell_type": "code",
      "metadata": {
        "id": "Z8VK11c52v0R"
      },
      "source": [
        "#Import Statements\n",
        "import pandas as pd\n",
        "import numpy as np\n",
        "import matplotlib.pyplot as plt\n",
        "import seaborn as sns\n",
        "from collections import Counter\n",
        "import nltk"
      ],
      "execution_count": null,
      "outputs": []
    },
    {
      "cell_type": "code",
      "metadata": {
        "id": "X7AFpZ-PN7rj"
      },
      "source": [
        "# Importing the data into Notebook\n",
        "Flipkart_orignal_data = pd.read_excel('flipkart_com-ecommerce_sample.xlsx')"
      ],
      "execution_count": null,
      "outputs": []
    },
    {
      "cell_type": "markdown",
      "metadata": {
        "id": "q7rC76V2OTZh"
      },
      "source": [
        "\n",
        "# Data Analysis\n",
        "\n",
        "After importing the data, a simple analysis of the data is done."
      ]
    },
    {
      "cell_type": "code",
      "metadata": {
        "colab": {
          "base_uri": "https://localhost:8080/"
        },
        "id": "FDWSvLejOlMx",
        "outputId": "7373b0d3-952f-46ee-abf8-2962c470f9db"
      },
      "source": [
        "Flipkart_orignal_data.info()"
      ],
      "execution_count": null,
      "outputs": [
        {
          "output_type": "stream",
          "text": [
            "<class 'pandas.core.frame.DataFrame'>\n",
            "RangeIndex: 20000 entries, 0 to 19999\n",
            "Data columns (total 15 columns):\n",
            " #   Column                   Non-Null Count  Dtype  \n",
            "---  ------                   --------------  -----  \n",
            " 0   uniq_id                  20000 non-null  object \n",
            " 1   crawl_timestamp          20000 non-null  object \n",
            " 2   product_url              20000 non-null  object \n",
            " 3   product_name             20000 non-null  object \n",
            " 4   product_category_tree    20000 non-null  object \n",
            " 5   pid                      20000 non-null  object \n",
            " 6   retail_price             19922 non-null  float64\n",
            " 7   discounted_price         19922 non-null  float64\n",
            " 8   image                    19997 non-null  object \n",
            " 9   is_FK_Advantage_product  20000 non-null  bool   \n",
            " 10  description              19998 non-null  object \n",
            " 11  product_rating           20000 non-null  object \n",
            " 12  overall_rating           20000 non-null  object \n",
            " 13  brand                    14136 non-null  object \n",
            " 14  product_specifications   19986 non-null  object \n",
            "dtypes: bool(1), float64(2), object(12)\n",
            "memory usage: 2.2+ MB\n"
          ],
          "name": "stdout"
        }
      ]
    },
    {
      "cell_type": "code",
      "metadata": {
        "colab": {
          "base_uri": "https://localhost:8080/",
          "height": 884
        },
        "id": "67FuuDMYO-Ll",
        "outputId": "9074ae16-ff10-49ce-c787-9424652a5362"
      },
      "source": [
        "#checking the head of the data \n",
        "Flipkart_orignal_data.head(n=10)"
      ],
      "execution_count": null,
      "outputs": [
        {
          "output_type": "execute_result",
          "data": {
            "text/html": [
              "<div>\n",
              "<style scoped>\n",
              "    .dataframe tbody tr th:only-of-type {\n",
              "        vertical-align: middle;\n",
              "    }\n",
              "\n",
              "    .dataframe tbody tr th {\n",
              "        vertical-align: top;\n",
              "    }\n",
              "\n",
              "    .dataframe thead th {\n",
              "        text-align: right;\n",
              "    }\n",
              "</style>\n",
              "<table border=\"1\" class=\"dataframe\">\n",
              "  <thead>\n",
              "    <tr style=\"text-align: right;\">\n",
              "      <th></th>\n",
              "      <th>uniq_id</th>\n",
              "      <th>crawl_timestamp</th>\n",
              "      <th>product_url</th>\n",
              "      <th>product_name</th>\n",
              "      <th>product_category_tree</th>\n",
              "      <th>pid</th>\n",
              "      <th>retail_price</th>\n",
              "      <th>discounted_price</th>\n",
              "      <th>image</th>\n",
              "      <th>is_FK_Advantage_product</th>\n",
              "      <th>description</th>\n",
              "      <th>product_rating</th>\n",
              "      <th>overall_rating</th>\n",
              "      <th>brand</th>\n",
              "      <th>product_specifications</th>\n",
              "    </tr>\n",
              "  </thead>\n",
              "  <tbody>\n",
              "    <tr>\n",
              "      <th>0</th>\n",
              "      <td>c2d766ca982eca8304150849735ffef9</td>\n",
              "      <td>2016-03-25 22:59:23 +0000</td>\n",
              "      <td>http://www.flipkart.com/alisha-solid-women-s-c...</td>\n",
              "      <td>Alisha Solid Women's Cycling Shorts</td>\n",
              "      <td>[\"Clothing &gt;&gt; Women's Clothing &gt;&gt; Lingerie, Sl...</td>\n",
              "      <td>SRTEH2FF9KEDEFGF</td>\n",
              "      <td>999.0</td>\n",
              "      <td>379.0</td>\n",
              "      <td>[\"http://img5a.flixcart.com/image/short/u/4/a/...</td>\n",
              "      <td>False</td>\n",
              "      <td>Key Features of Alisha Solid Women's Cycling S...</td>\n",
              "      <td>No rating available</td>\n",
              "      <td>No rating available</td>\n",
              "      <td>Alisha</td>\n",
              "      <td>{\"product_specification\"=&gt;[{\"key\"=&gt;\"Number of ...</td>\n",
              "    </tr>\n",
              "    <tr>\n",
              "      <th>1</th>\n",
              "      <td>7f7036a6d550aaa89d34c77bd39a5e48</td>\n",
              "      <td>2016-03-25 22:59:23 +0000</td>\n",
              "      <td>http://www.flipkart.com/fabhomedecor-fabric-do...</td>\n",
              "      <td>FabHomeDecor Fabric Double Sofa Bed</td>\n",
              "      <td>[\"Furniture &gt;&gt; Living Room Furniture &gt;&gt; Sofa B...</td>\n",
              "      <td>SBEEH3QGU7MFYJFY</td>\n",
              "      <td>32157.0</td>\n",
              "      <td>22646.0</td>\n",
              "      <td>[\"http://img6a.flixcart.com/image/sofa-bed/j/f...</td>\n",
              "      <td>False</td>\n",
              "      <td>FabHomeDecor Fabric Double Sofa Bed (Finish Co...</td>\n",
              "      <td>No rating available</td>\n",
              "      <td>No rating available</td>\n",
              "      <td>FabHomeDecor</td>\n",
              "      <td>{\"product_specification\"=&gt;[{\"key\"=&gt;\"Installati...</td>\n",
              "    </tr>\n",
              "    <tr>\n",
              "      <th>2</th>\n",
              "      <td>f449ec65dcbc041b6ae5e6a32717d01b</td>\n",
              "      <td>2016-03-25 22:59:23 +0000</td>\n",
              "      <td>http://www.flipkart.com/aw-bellies/p/itmeh4grg...</td>\n",
              "      <td>AW Bellies</td>\n",
              "      <td>[\"Footwear &gt;&gt; Women's Footwear &gt;&gt; Ballerinas &gt;...</td>\n",
              "      <td>SHOEH4GRSUBJGZXE</td>\n",
              "      <td>999.0</td>\n",
              "      <td>499.0</td>\n",
              "      <td>[\"http://img5a.flixcart.com/image/shoe/7/z/z/r...</td>\n",
              "      <td>False</td>\n",
              "      <td>Key Features of AW Bellies Sandals Wedges Heel...</td>\n",
              "      <td>No rating available</td>\n",
              "      <td>No rating available</td>\n",
              "      <td>AW</td>\n",
              "      <td>{\"product_specification\"=&gt;[{\"key\"=&gt;\"Ideal For\"...</td>\n",
              "    </tr>\n",
              "    <tr>\n",
              "      <th>3</th>\n",
              "      <td>0973b37acd0c664e3de26e97e5571454</td>\n",
              "      <td>2016-03-25 22:59:23 +0000</td>\n",
              "      <td>http://www.flipkart.com/alisha-solid-women-s-c...</td>\n",
              "      <td>Alisha Solid Women's Cycling Shorts</td>\n",
              "      <td>[\"Clothing &gt;&gt; Women's Clothing &gt;&gt; Lingerie, Sl...</td>\n",
              "      <td>SRTEH2F6HUZMQ6SJ</td>\n",
              "      <td>699.0</td>\n",
              "      <td>267.0</td>\n",
              "      <td>[\"http://img5a.flixcart.com/image/short/6/2/h/...</td>\n",
              "      <td>False</td>\n",
              "      <td>Key Features of Alisha Solid Women's Cycling S...</td>\n",
              "      <td>No rating available</td>\n",
              "      <td>No rating available</td>\n",
              "      <td>Alisha</td>\n",
              "      <td>{\"product_specification\"=&gt;[{\"key\"=&gt;\"Number of ...</td>\n",
              "    </tr>\n",
              "    <tr>\n",
              "      <th>4</th>\n",
              "      <td>bc940ea42ee6bef5ac7cea3fb5cfbee7</td>\n",
              "      <td>2016-03-25 22:59:23 +0000</td>\n",
              "      <td>http://www.flipkart.com/sicons-all-purpose-arn...</td>\n",
              "      <td>Sicons All Purpose Arnica Dog Shampoo</td>\n",
              "      <td>[\"Pet Supplies &gt;&gt; Grooming &gt;&gt; Skin &amp; Coat Care...</td>\n",
              "      <td>PSOEH3ZYDMSYARJ5</td>\n",
              "      <td>220.0</td>\n",
              "      <td>210.0</td>\n",
              "      <td>[\"http://img5a.flixcart.com/image/pet-shampoo/...</td>\n",
              "      <td>False</td>\n",
              "      <td>Specifications of Sicons All Purpose Arnica Do...</td>\n",
              "      <td>No rating available</td>\n",
              "      <td>No rating available</td>\n",
              "      <td>Sicons</td>\n",
              "      <td>{\"product_specification\"=&gt;[{\"key\"=&gt;\"Pet Type\",...</td>\n",
              "    </tr>\n",
              "    <tr>\n",
              "      <th>5</th>\n",
              "      <td>c2a17313954882c1dba461863e98adf2</td>\n",
              "      <td>2016-03-25 22:59:23 +0000</td>\n",
              "      <td>http://www.flipkart.com/eternal-gandhi-super-s...</td>\n",
              "      <td>Eternal Gandhi Super Series Crystal Paper Weig...</td>\n",
              "      <td>[\"Eternal Gandhi Super Series Crystal Paper We...</td>\n",
              "      <td>PWTEB7H2E4KCYUE3</td>\n",
              "      <td>430.0</td>\n",
              "      <td>430.0</td>\n",
              "      <td>[\"http://img5a.flixcart.com/image/paper-weight...</td>\n",
              "      <td>False</td>\n",
              "      <td>Key Features of Eternal Gandhi Super Series Cr...</td>\n",
              "      <td>No rating available</td>\n",
              "      <td>No rating available</td>\n",
              "      <td>Eternal Gandhi</td>\n",
              "      <td>{\"product_specification\"=&gt;[{\"key\"=&gt;\"Model Name...</td>\n",
              "    </tr>\n",
              "    <tr>\n",
              "      <th>6</th>\n",
              "      <td>ce5a6818f7707e2cb61fdcdbba61f5ad</td>\n",
              "      <td>2016-03-25 22:59:23 +0000</td>\n",
              "      <td>http://www.flipkart.com/alisha-solid-women-s-c...</td>\n",
              "      <td>Alisha Solid Women's Cycling Shorts</td>\n",
              "      <td>[\"Clothing &gt;&gt; Women's Clothing &gt;&gt; Lingerie, Sl...</td>\n",
              "      <td>SRTEH2FVVKRBAXHB</td>\n",
              "      <td>1199.0</td>\n",
              "      <td>479.0</td>\n",
              "      <td>[\"http://img6a.flixcart.com/image/short/p/j/z/...</td>\n",
              "      <td>False</td>\n",
              "      <td>Key Features of Alisha Solid Women's Cycling S...</td>\n",
              "      <td>No rating available</td>\n",
              "      <td>No rating available</td>\n",
              "      <td>Alisha</td>\n",
              "      <td>{\"product_specification\"=&gt;[{\"key\"=&gt;\"Number of ...</td>\n",
              "    </tr>\n",
              "    <tr>\n",
              "      <th>7</th>\n",
              "      <td>8542703ca9e6ebdf6d742638dfb1f2ca</td>\n",
              "      <td>2016-03-25 22:59:23 +0000</td>\n",
              "      <td>http://www.flipkart.com/fabhomedecor-fabric-do...</td>\n",
              "      <td>FabHomeDecor Fabric Double Sofa Bed</td>\n",
              "      <td>[\"Furniture &gt;&gt; Living Room Furniture &gt;&gt; Sofa B...</td>\n",
              "      <td>SBEEH3QGYGHFUEXN</td>\n",
              "      <td>32157.0</td>\n",
              "      <td>22646.0</td>\n",
              "      <td>[\"http://img6a.flixcart.com/image/sofa-bed/e/x...</td>\n",
              "      <td>False</td>\n",
              "      <td>FabHomeDecor Fabric Double Sofa Bed (Finish Co...</td>\n",
              "      <td>No rating available</td>\n",
              "      <td>No rating available</td>\n",
              "      <td>FabHomeDecor</td>\n",
              "      <td>{\"product_specification\"=&gt;[{\"key\"=&gt;\"Installati...</td>\n",
              "    </tr>\n",
              "    <tr>\n",
              "      <th>8</th>\n",
              "      <td>29c8d290caa451f97b1c32df64477a2c</td>\n",
              "      <td>2016-03-25 22:59:23 +0000</td>\n",
              "      <td>http://www.flipkart.com/dilli-bazaaar-bellies-...</td>\n",
              "      <td>dilli bazaaar Bellies, Corporate Casuals, Casuals</td>\n",
              "      <td>[\"Footwear &gt;&gt; Women's Footwear &gt;&gt; Ballerinas &gt;...</td>\n",
              "      <td>SHOEH3DZBFR88SCK</td>\n",
              "      <td>699.0</td>\n",
              "      <td>349.0</td>\n",
              "      <td>[\"http://img6a.flixcart.com/image/shoe/b/p/n/p...</td>\n",
              "      <td>False</td>\n",
              "      <td>Key Features of dilli bazaaar Bellies, Corpora...</td>\n",
              "      <td>No rating available</td>\n",
              "      <td>No rating available</td>\n",
              "      <td>dilli bazaaar</td>\n",
              "      <td>{\"product_specification\"=&gt;[{\"key\"=&gt;\"Occasion\",...</td>\n",
              "    </tr>\n",
              "    <tr>\n",
              "      <th>9</th>\n",
              "      <td>4044c0ac52c1ee4b28777417651faf42</td>\n",
              "      <td>2016-03-25 22:59:23 +0000</td>\n",
              "      <td>http://www.flipkart.com/alisha-solid-women-s-c...</td>\n",
              "      <td>Alisha Solid Women's Cycling Shorts</td>\n",
              "      <td>[\"Clothing &gt;&gt; Women's Clothing &gt;&gt; Lingerie, Sl...</td>\n",
              "      <td>SRTEH2FVUHAAVH9X</td>\n",
              "      <td>1199.0</td>\n",
              "      <td>479.0</td>\n",
              "      <td>[\"http://img5a.flixcart.com/image/short/5/z/c/...</td>\n",
              "      <td>False</td>\n",
              "      <td>Key Features of Alisha Solid Women's Cycling S...</td>\n",
              "      <td>No rating available</td>\n",
              "      <td>No rating available</td>\n",
              "      <td>Alisha</td>\n",
              "      <td>{\"product_specification\"=&gt;[{\"key\"=&gt;\"Number of ...</td>\n",
              "    </tr>\n",
              "  </tbody>\n",
              "</table>\n",
              "</div>"
            ],
            "text/plain": [
              "                            uniq_id  ...                             product_specifications\n",
              "0  c2d766ca982eca8304150849735ffef9  ...  {\"product_specification\"=>[{\"key\"=>\"Number of ...\n",
              "1  7f7036a6d550aaa89d34c77bd39a5e48  ...  {\"product_specification\"=>[{\"key\"=>\"Installati...\n",
              "2  f449ec65dcbc041b6ae5e6a32717d01b  ...  {\"product_specification\"=>[{\"key\"=>\"Ideal For\"...\n",
              "3  0973b37acd0c664e3de26e97e5571454  ...  {\"product_specification\"=>[{\"key\"=>\"Number of ...\n",
              "4  bc940ea42ee6bef5ac7cea3fb5cfbee7  ...  {\"product_specification\"=>[{\"key\"=>\"Pet Type\",...\n",
              "5  c2a17313954882c1dba461863e98adf2  ...  {\"product_specification\"=>[{\"key\"=>\"Model Name...\n",
              "6  ce5a6818f7707e2cb61fdcdbba61f5ad  ...  {\"product_specification\"=>[{\"key\"=>\"Number of ...\n",
              "7  8542703ca9e6ebdf6d742638dfb1f2ca  ...  {\"product_specification\"=>[{\"key\"=>\"Installati...\n",
              "8  29c8d290caa451f97b1c32df64477a2c  ...  {\"product_specification\"=>[{\"key\"=>\"Occasion\",...\n",
              "9  4044c0ac52c1ee4b28777417651faf42  ...  {\"product_specification\"=>[{\"key\"=>\"Number of ...\n",
              "\n",
              "[10 rows x 15 columns]"
            ]
          },
          "metadata": {
            "tags": []
          },
          "execution_count": 338
        }
      ]
    },
    {
      "cell_type": "code",
      "metadata": {
        "colab": {
          "base_uri": "https://localhost:8080/"
        },
        "id": "GjjpmOnKPG9A",
        "outputId": "6e1af5d2-dbe6-42ea-9bb0-bcd22c5cfe72"
      },
      "source": [
        "#to check the number of rows and cols\n",
        "Flipkart_orignal_data.shape"
      ],
      "execution_count": null,
      "outputs": [
        {
          "output_type": "execute_result",
          "data": {
            "text/plain": [
              "(20000, 15)"
            ]
          },
          "metadata": {
            "tags": []
          },
          "execution_count": 339
        }
      ]
    },
    {
      "cell_type": "markdown",
      "metadata": {
        "id": "kVD16fxsPUvN"
      },
      "source": [
        "Its important to check how much null data we have to,so no problems occur later on."
      ]
    },
    {
      "cell_type": "code",
      "metadata": {
        "colab": {
          "base_uri": "https://localhost:8080/"
        },
        "id": "iWmJmOnTPQrt",
        "outputId": "23b0d6fe-2589-4a33-f291-40d2083bb6a0"
      },
      "source": [
        "Flipkart_orignal_data.isnull().sum()"
      ],
      "execution_count": null,
      "outputs": [
        {
          "output_type": "execute_result",
          "data": {
            "text/plain": [
              "uniq_id                       0\n",
              "crawl_timestamp               0\n",
              "product_url                   0\n",
              "product_name                  0\n",
              "product_category_tree         0\n",
              "pid                           0\n",
              "retail_price                 78\n",
              "discounted_price             78\n",
              "image                         3\n",
              "is_FK_Advantage_product       0\n",
              "description                   2\n",
              "product_rating                0\n",
              "overall_rating                0\n",
              "brand                      5864\n",
              "product_specifications       14\n",
              "dtype: int64"
            ]
          },
          "metadata": {
            "tags": []
          },
          "execution_count": 340
        }
      ]
    },
    {
      "cell_type": "markdown",
      "metadata": {
        "id": "SeahPvwdPr9I"
      },
      "source": [
        "Now, all the columns were enlisted so that we can decide which columns we can use as features for our Machine learning model.\n"
      ]
    },
    {
      "cell_type": "code",
      "metadata": {
        "colab": {
          "base_uri": "https://localhost:8080/"
        },
        "id": "DcX2iSAIPliT",
        "outputId": "a6e46432-8abc-40f1-bbea-e7d45ef77111"
      },
      "source": [
        "Flipkart_orignal_data.columns"
      ],
      "execution_count": null,
      "outputs": [
        {
          "output_type": "execute_result",
          "data": {
            "text/plain": [
              "Index(['uniq_id', 'crawl_timestamp', 'product_url', 'product_name',\n",
              "       'product_category_tree', 'pid', 'retail_price', 'discounted_price',\n",
              "       'image', 'is_FK_Advantage_product', 'description', 'product_rating',\n",
              "       'overall_rating', 'brand', 'product_specifications'],\n",
              "      dtype='object')"
            ]
          },
          "metadata": {
            "tags": []
          },
          "execution_count": 341
        }
      ]
    },
    {
      "cell_type": "markdown",
      "metadata": {
        "id": "9ScFoXOgP-Zu"
      },
      "source": [
        "## Rough Analysis\n",
        "\n",
        "By glance, To predict the \"Primary Category\" of the given product we need \"product_category_tree\", \"brand\",\"product_name\" columns for our model. Talking about \"product_category_tree\" we do have to clean it up and create another table called \"primary_category\" where the tree is cleaned and the correct category is extracted. \"brand\" coloumn have 5864\n",
        "null values, which we need to take care of.\n"
      ]
    },
    {
      "cell_type": "markdown",
      "metadata": {
        "id": "9iu1mVIgRZnl"
      },
      "source": [
        "# Data Cleaning\n",
        "\n",
        "Since we have done data analysis, we know that we need to clean our data.\n",
        "\n",
        "**Lets start!**"
      ]
    },
    {
      "cell_type": "code",
      "metadata": {
        "id": "FpGrQleeRQPS"
      },
      "source": [
        "# Making a copy of orginal data\n",
        "flipkart_data = Flipkart_orignal_data.copy()"
      ],
      "execution_count": null,
      "outputs": []
    },
    {
      "cell_type": "code",
      "metadata": {
        "colab": {
          "base_uri": "https://localhost:8080/"
        },
        "id": "q8_HsMaqT6R2",
        "outputId": "d96461ff-5b86-46d2-d6cc-a520c35e3fa2"
      },
      "source": [
        "#Lets Drop the Un-required Coloumns.\n",
        "\n",
        "flipkart_data.columns"
      ],
      "execution_count": null,
      "outputs": [
        {
          "output_type": "execute_result",
          "data": {
            "text/plain": [
              "Index(['uniq_id', 'crawl_timestamp', 'product_url', 'product_name',\n",
              "       'product_category_tree', 'pid', 'retail_price', 'discounted_price',\n",
              "       'image', 'is_FK_Advantage_product', 'description', 'product_rating',\n",
              "       'overall_rating', 'brand', 'product_specifications'],\n",
              "      dtype='object')"
            ]
          },
          "metadata": {
            "tags": []
          },
          "execution_count": 343
        }
      ]
    },
    {
      "cell_type": "code",
      "metadata": {
        "id": "a8GcmWpp2v0b",
        "colab": {
          "base_uri": "https://localhost:8080/",
          "height": 435
        },
        "outputId": "3cbbd745-7f20-4aa9-a946-230e2977a0fe"
      },
      "source": [
        "flipkart_data.drop(flipkart_data.columns[[0,1,2,5,6,7,8,9,11,12,14]], axis=1, inplace=True)\n",
        "\n",
        "#Lets View the data Now\n",
        "flipkart_data"
      ],
      "execution_count": null,
      "outputs": [
        {
          "output_type": "execute_result",
          "data": {
            "text/html": [
              "<div>\n",
              "<style scoped>\n",
              "    .dataframe tbody tr th:only-of-type {\n",
              "        vertical-align: middle;\n",
              "    }\n",
              "\n",
              "    .dataframe tbody tr th {\n",
              "        vertical-align: top;\n",
              "    }\n",
              "\n",
              "    .dataframe thead th {\n",
              "        text-align: right;\n",
              "    }\n",
              "</style>\n",
              "<table border=\"1\" class=\"dataframe\">\n",
              "  <thead>\n",
              "    <tr style=\"text-align: right;\">\n",
              "      <th></th>\n",
              "      <th>product_name</th>\n",
              "      <th>product_category_tree</th>\n",
              "      <th>description</th>\n",
              "      <th>brand</th>\n",
              "    </tr>\n",
              "  </thead>\n",
              "  <tbody>\n",
              "    <tr>\n",
              "      <th>0</th>\n",
              "      <td>Alisha Solid Women's Cycling Shorts</td>\n",
              "      <td>[\"Clothing &gt;&gt; Women's Clothing &gt;&gt; Lingerie, Sl...</td>\n",
              "      <td>Key Features of Alisha Solid Women's Cycling S...</td>\n",
              "      <td>Alisha</td>\n",
              "    </tr>\n",
              "    <tr>\n",
              "      <th>1</th>\n",
              "      <td>FabHomeDecor Fabric Double Sofa Bed</td>\n",
              "      <td>[\"Furniture &gt;&gt; Living Room Furniture &gt;&gt; Sofa B...</td>\n",
              "      <td>FabHomeDecor Fabric Double Sofa Bed (Finish Co...</td>\n",
              "      <td>FabHomeDecor</td>\n",
              "    </tr>\n",
              "    <tr>\n",
              "      <th>2</th>\n",
              "      <td>AW Bellies</td>\n",
              "      <td>[\"Footwear &gt;&gt; Women's Footwear &gt;&gt; Ballerinas &gt;...</td>\n",
              "      <td>Key Features of AW Bellies Sandals Wedges Heel...</td>\n",
              "      <td>AW</td>\n",
              "    </tr>\n",
              "    <tr>\n",
              "      <th>3</th>\n",
              "      <td>Alisha Solid Women's Cycling Shorts</td>\n",
              "      <td>[\"Clothing &gt;&gt; Women's Clothing &gt;&gt; Lingerie, Sl...</td>\n",
              "      <td>Key Features of Alisha Solid Women's Cycling S...</td>\n",
              "      <td>Alisha</td>\n",
              "    </tr>\n",
              "    <tr>\n",
              "      <th>4</th>\n",
              "      <td>Sicons All Purpose Arnica Dog Shampoo</td>\n",
              "      <td>[\"Pet Supplies &gt;&gt; Grooming &gt;&gt; Skin &amp; Coat Care...</td>\n",
              "      <td>Specifications of Sicons All Purpose Arnica Do...</td>\n",
              "      <td>Sicons</td>\n",
              "    </tr>\n",
              "    <tr>\n",
              "      <th>...</th>\n",
              "      <td>...</td>\n",
              "      <td>...</td>\n",
              "      <td>...</td>\n",
              "      <td>...</td>\n",
              "    </tr>\n",
              "    <tr>\n",
              "      <th>19995</th>\n",
              "      <td>WallDesign Small Vinyl Sticker</td>\n",
              "      <td>[\"Baby Care &gt;&gt; Baby &amp; Kids Gifts &gt;&gt; Stickers &gt;...</td>\n",
              "      <td>Buy WallDesign Small Vinyl Sticker for Rs.730 ...</td>\n",
              "      <td>WallDesign</td>\n",
              "    </tr>\n",
              "    <tr>\n",
              "      <th>19996</th>\n",
              "      <td>Wallmantra Large Vinyl Stickers Sticker</td>\n",
              "      <td>[\"Baby Care &gt;&gt; Baby &amp; Kids Gifts &gt;&gt; Stickers &gt;...</td>\n",
              "      <td>Buy Wallmantra Large Vinyl Stickers Sticker fo...</td>\n",
              "      <td>Wallmantra</td>\n",
              "    </tr>\n",
              "    <tr>\n",
              "      <th>19997</th>\n",
              "      <td>Elite Collection Medium Acrylic Sticker</td>\n",
              "      <td>[\"Baby Care &gt;&gt; Baby &amp; Kids Gifts &gt;&gt; Stickers &gt;...</td>\n",
              "      <td>Buy Elite Collection Medium Acrylic Sticker fo...</td>\n",
              "      <td>Elite Collection</td>\n",
              "    </tr>\n",
              "    <tr>\n",
              "      <th>19998</th>\n",
              "      <td>Elite Collection Medium Acrylic Sticker</td>\n",
              "      <td>[\"Baby Care &gt;&gt; Baby &amp; Kids Gifts &gt;&gt; Stickers &gt;...</td>\n",
              "      <td>Buy Elite Collection Medium Acrylic Sticker fo...</td>\n",
              "      <td>Elite Collection</td>\n",
              "    </tr>\n",
              "    <tr>\n",
              "      <th>19999</th>\n",
              "      <td>Elite Collection Medium Acrylic Sticker</td>\n",
              "      <td>[\"Baby Care &gt;&gt; Baby &amp; Kids Gifts &gt;&gt; Stickers &gt;...</td>\n",
              "      <td>Buy Elite Collection Medium Acrylic Sticker fo...</td>\n",
              "      <td>Elite Collection</td>\n",
              "    </tr>\n",
              "  </tbody>\n",
              "</table>\n",
              "<p>20000 rows × 4 columns</p>\n",
              "</div>"
            ],
            "text/plain": [
              "                                  product_name  ...             brand\n",
              "0          Alisha Solid Women's Cycling Shorts  ...            Alisha\n",
              "1          FabHomeDecor Fabric Double Sofa Bed  ...      FabHomeDecor\n",
              "2                                   AW Bellies  ...                AW\n",
              "3          Alisha Solid Women's Cycling Shorts  ...            Alisha\n",
              "4        Sicons All Purpose Arnica Dog Shampoo  ...            Sicons\n",
              "...                                        ...  ...               ...\n",
              "19995           WallDesign Small Vinyl Sticker  ...        WallDesign\n",
              "19996  Wallmantra Large Vinyl Stickers Sticker  ...        Wallmantra\n",
              "19997  Elite Collection Medium Acrylic Sticker  ...  Elite Collection\n",
              "19998  Elite Collection Medium Acrylic Sticker  ...  Elite Collection\n",
              "19999  Elite Collection Medium Acrylic Sticker  ...  Elite Collection\n",
              "\n",
              "[20000 rows x 4 columns]"
            ]
          },
          "metadata": {
            "tags": []
          },
          "execution_count": 344
        }
      ]
    },
    {
      "cell_type": "markdown",
      "metadata": {
        "id": "ywUMhyRBY3xs"
      },
      "source": [
        "Cleaning the ***product_category_tree***\tcolumn."
      ]
    },
    {
      "cell_type": "code",
      "metadata": {
        "id": "XPaYqNe4UVbv"
      },
      "source": [
        "# A function to Clean the product_category_tree and return Primary_Category\n",
        "def clean_prod_category():\n",
        "  primary_category=[]\n",
        "  #iterate in col\n",
        "  for ele in flipkart_data['product_category_tree']: \n",
        "    ele=ele.replace('\"]',\"\")\n",
        "    category=ele[2:].split(\" >>\")\n",
        "    primary_category.append(category[0])\n",
        "  \n",
        "  #returinig the clean data\n",
        "  return primary_category"
      ],
      "execution_count": null,
      "outputs": []
    },
    {
      "cell_type": "code",
      "metadata": {
        "colab": {
          "base_uri": "https://localhost:8080/"
        },
        "id": "43Y8l2vBaoqB",
        "outputId": "ef2ebeda-ff9d-4358-d02f-05deea39e2ef"
      },
      "source": [
        "#Calling the function\n",
        "primary_category=clean_prod_category()\n",
        "\n",
        "#Verfying the output\n",
        "primary_category"
      ],
      "execution_count": null,
      "outputs": [
        {
          "output_type": "execute_result",
          "data": {
            "text/plain": [
              "['Clothing',\n",
              " 'Furniture',\n",
              " 'Footwear',\n",
              " 'Clothing',\n",
              " 'Pet Supplies',\n",
              " 'Eternal Gandhi Super Series Crystal Paper Weight...',\n",
              " 'Clothing',\n",
              " 'Furniture',\n",
              " 'Footwear',\n",
              " 'Clothing',\n",
              " 'Footwear',\n",
              " 'Clothing',\n",
              " 'Pet Supplies',\n",
              " 'Clothing',\n",
              " 'Pens & Stationery',\n",
              " 'Clothing',\n",
              " 'Furniture',\n",
              " 'Footwear',\n",
              " 'Clothing',\n",
              " 'Furniture',\n",
              " 'Pet Supplies',\n",
              " 'Clothing',\n",
              " 'Clothing',\n",
              " 'Footwear',\n",
              " 'Pet Supplies',\n",
              " 'Clothing',\n",
              " 'Sports & Fitness',\n",
              " 'Beauty and Personal Care',\n",
              " 'Clothing',\n",
              " 'Clothing',\n",
              " 'Bengal Blooms Rose Artificial Plant  with Pot (3...',\n",
              " 'Clothing',\n",
              " 'Pens & Stationery',\n",
              " 'Pens & Stationery',\n",
              " 'Pens & Stationery',\n",
              " 'Clothing',\n",
              " 'Pens & Stationery',\n",
              " 'Clothing',\n",
              " 'Bags, Wallets & Belts',\n",
              " 'Clothing',\n",
              " 'Footwear',\n",
              " 'Home Decor & Festive Needs',\n",
              " 'Automotive',\n",
              " 'Tools & Hardware',\n",
              " \"Vishudh Printed Women's Straight Kurta\",\n",
              " \"Vishudh Printed Women's Straight Kurta\",\n",
              " \"Vishudh Printed Women's Anarkali Kurta\",\n",
              " 'BuildTrack PIR Wireless Motion Sensor - One Swit...',\n",
              " 'Skayvon SUMMERSIBLE SINGLE PHASE PUMP CONTROLLER...',\n",
              " \"MASARA Solid Women's Straight Kurta\",\n",
              " \"Vishudh Printed Women's Straight Kurta\",\n",
              " 'Tools & Hardware',\n",
              " 'Skayvon SUBMERSIBBLE THREE PHASE PUMP CONTROLLER...',\n",
              " \"Vishudh Printed Women's Straight Kurta\",\n",
              " 'Behringer Xenyx 502 Analog Sound Mixer',\n",
              " \"Vishudh Printed Women's Straight Kurta\",\n",
              " \"Vishudh Printed Women's Straight Kurta\",\n",
              " \"MASARA Solid Women's Straight Kurta\",\n",
              " \"MASARA Solid Women's Straight Kurta\",\n",
              " 'Clothing',\n",
              " \"Vishudh Printed Women's Straight Kurta\",\n",
              " \"Noor Embroidered Women's Straight Kurta\",\n",
              " \"MASARA Solid Women's Straight Kurta\",\n",
              " \"Vishudh Printed Women's Straight Kurta\",\n",
              " \"Libas Printed Women's A-line Kurta\",\n",
              " \"Libas Printed Women's Anarkali Kurta\",\n",
              " \"MASARA Solid Women's Straight Kurta\",\n",
              " 'Sports & Fitness',\n",
              " 'Bags, Wallets & Belts',\n",
              " 'Sports & Fitness',\n",
              " 'Bags, Wallets & Belts',\n",
              " 'Home Furnishing',\n",
              " 'Footwear',\n",
              " 'Sports & Fitness',\n",
              " 'Baby Care',\n",
              " 'Sports & Fitness',\n",
              " 'Baby Care',\n",
              " 'Home Furnishing',\n",
              " 'Mobiles & Accessories',\n",
              " 'Clothing',\n",
              " 'Home Furnishing',\n",
              " 'Pens & Stationery',\n",
              " 'Home Furnishing',\n",
              " 'Baby Care',\n",
              " 'Home Decor & Festive Needs',\n",
              " 'Food & Nutrition',\n",
              " 'Clothing',\n",
              " 'Clothing',\n",
              " 'Watches',\n",
              " 'Footwear',\n",
              " 'Watches',\n",
              " 'Footwear',\n",
              " 'Watches',\n",
              " 'Watches',\n",
              " 'Watches',\n",
              " 'Clothing',\n",
              " 'Footwear',\n",
              " 'Watches',\n",
              " 'Footwear',\n",
              " 'Watches',\n",
              " 'Watches',\n",
              " 'Footwear',\n",
              " 'Footwear',\n",
              " 'Watches',\n",
              " 'Footwear',\n",
              " 'Footwear',\n",
              " 'Watches',\n",
              " 'Footwear',\n",
              " 'Watches',\n",
              " 'Footwear',\n",
              " 'Footwear',\n",
              " 'Clothing',\n",
              " 'Footwear',\n",
              " 'Footwear',\n",
              " 'Watches',\n",
              " 'Footwear',\n",
              " 'Watches',\n",
              " 'Footwear',\n",
              " 'Footwear',\n",
              " 'Watches',\n",
              " 'Footwear',\n",
              " 'Footwear',\n",
              " 'Footwear',\n",
              " 'Watches',\n",
              " 'Footwear',\n",
              " 'Footwear',\n",
              " 'Watches',\n",
              " 'Footwear',\n",
              " 'Footwear',\n",
              " 'Watches',\n",
              " 'Clothing',\n",
              " 'Footwear',\n",
              " 'Watches',\n",
              " 'Footwear',\n",
              " 'Watches',\n",
              " 'Footwear',\n",
              " 'Footwear',\n",
              " 'Watches',\n",
              " 'Watches',\n",
              " 'Footwear',\n",
              " 'Footwear',\n",
              " 'Footwear',\n",
              " 'Footwear',\n",
              " 'Watches',\n",
              " 'Watches',\n",
              " 'Footwear',\n",
              " 'Watches',\n",
              " 'Watches',\n",
              " 'Watches',\n",
              " 'Footwear',\n",
              " 'Watches',\n",
              " 'Footwear',\n",
              " 'Watches',\n",
              " 'Clothing',\n",
              " 'Footwear',\n",
              " 'Footwear',\n",
              " 'Watches',\n",
              " 'Footwear',\n",
              " 'Footwear',\n",
              " 'Watches',\n",
              " 'Footwear',\n",
              " 'Footwear',\n",
              " 'Watches',\n",
              " 'Footwear',\n",
              " 'Watches',\n",
              " 'Footwear',\n",
              " 'Watches',\n",
              " 'Footwear',\n",
              " 'Clothing',\n",
              " 'Footwear',\n",
              " 'Watches',\n",
              " 'Watches',\n",
              " 'Watches',\n",
              " 'Footwear',\n",
              " 'Footwear',\n",
              " 'Footwear',\n",
              " 'Watches',\n",
              " 'Watches',\n",
              " 'Footwear',\n",
              " 'Watches',\n",
              " 'Footwear',\n",
              " 'Footwear',\n",
              " 'Footwear',\n",
              " 'Watches',\n",
              " 'Footwear',\n",
              " 'Clothing',\n",
              " 'Footwear',\n",
              " 'Footwear',\n",
              " 'Watches',\n",
              " 'Footwear',\n",
              " 'Watches',\n",
              " 'Footwear',\n",
              " 'Footwear',\n",
              " 'Watches',\n",
              " 'Footwear',\n",
              " 'Watches',\n",
              " 'Footwear',\n",
              " 'Footwear',\n",
              " 'Watches',\n",
              " 'Footwear',\n",
              " 'Footwear',\n",
              " 'Watches',\n",
              " 'Footwear',\n",
              " 'Watches',\n",
              " 'Watches',\n",
              " 'Footwear',\n",
              " 'Footwear',\n",
              " 'Footwear',\n",
              " 'Footwear',\n",
              " 'Footwear',\n",
              " 'Watches',\n",
              " 'Footwear',\n",
              " 'Footwear',\n",
              " 'Watches',\n",
              " 'Footwear',\n",
              " 'Watches',\n",
              " 'Footwear',\n",
              " 'Watches',\n",
              " 'Footwear',\n",
              " 'Watches',\n",
              " 'Footwear',\n",
              " 'Watches',\n",
              " 'Footwear',\n",
              " 'Footwear',\n",
              " 'Watches',\n",
              " 'Footwear',\n",
              " 'Watches',\n",
              " 'Footwear',\n",
              " 'Footwear',\n",
              " 'Footwear',\n",
              " 'Footwear',\n",
              " 'Footwear',\n",
              " 'Footwear',\n",
              " 'Watches',\n",
              " 'Footwear',\n",
              " 'Watches',\n",
              " 'Footwear',\n",
              " 'Watches',\n",
              " 'Footwear',\n",
              " 'Watches',\n",
              " 'Footwear',\n",
              " 'Footwear',\n",
              " 'Footwear',\n",
              " 'Watches',\n",
              " 'Footwear',\n",
              " 'Footwear',\n",
              " 'Watches',\n",
              " 'Footwear',\n",
              " 'Watches',\n",
              " 'Footwear',\n",
              " 'Watches',\n",
              " 'Footwear',\n",
              " 'Watches',\n",
              " 'Footwear',\n",
              " 'Watches',\n",
              " 'Footwear',\n",
              " 'Footwear',\n",
              " 'Footwear',\n",
              " 'Watches',\n",
              " 'Watches',\n",
              " 'Footwear',\n",
              " 'Watches',\n",
              " 'Footwear',\n",
              " 'Watches',\n",
              " 'Watches',\n",
              " 'Footwear',\n",
              " 'Watches',\n",
              " 'Footwear',\n",
              " 'Watches',\n",
              " 'Footwear',\n",
              " 'Watches',\n",
              " 'Footwear',\n",
              " 'Footwear',\n",
              " 'Footwear',\n",
              " 'Footwear',\n",
              " 'Watches',\n",
              " 'Footwear',\n",
              " 'Footwear',\n",
              " 'Watches',\n",
              " 'Footwear',\n",
              " 'Watches',\n",
              " 'Watches',\n",
              " 'Footwear',\n",
              " 'Footwear',\n",
              " 'Footwear',\n",
              " 'Watches',\n",
              " 'Footwear',\n",
              " 'Watches',\n",
              " 'Footwear',\n",
              " 'Watches',\n",
              " 'Footwear',\n",
              " 'Watches',\n",
              " 'Footwear',\n",
              " 'Watches',\n",
              " 'Watches',\n",
              " 'Footwear',\n",
              " 'Sports & Fitness',\n",
              " 'Sports & Fitness',\n",
              " 'Sports & Fitness',\n",
              " 'Sports & Fitness',\n",
              " 'Clothing',\n",
              " 'Home Furnishing',\n",
              " 'Clothing',\n",
              " 'Pens & Stationery',\n",
              " 'Clothing',\n",
              " 'Home Furnishing',\n",
              " 'Home Furnishing',\n",
              " 'Sports & Fitness',\n",
              " 'Clothing',\n",
              " 'Clothing',\n",
              " 'Mobiles & Accessories',\n",
              " 'Toys & School Supplies',\n",
              " 'Home Furnishing',\n",
              " 'Home Furnishing',\n",
              " 'Home Furnishing',\n",
              " 'Footwear',\n",
              " 'Footwear',\n",
              " 'Home Furnishing',\n",
              " 'Mobiles & Accessories',\n",
              " 'Jewellery',\n",
              " 'Jewellery',\n",
              " 'Sports & Fitness',\n",
              " 'Jewellery',\n",
              " 'Toys & School Supplies',\n",
              " 'Clothing',\n",
              " 'Jewellery',\n",
              " 'Jewellery',\n",
              " 'Cellbazaar Blackberry 8520 WHITE LCD LCD (YIT-562)',\n",
              " 'Dressberry Gold Synthetic  Clutch',\n",
              " 'Mast & Harbour Black Synthetic  Clutch',\n",
              " 'Footwear',\n",
              " \"Sisel Printed Poly Cotton Women's Stole\",\n",
              " 'Footwear',\n",
              " 'Knight Ace Kraasa Sports Running Shoes, Cycling ...',\n",
              " 'Dressberry Gold Synthetic  Clutch',\n",
              " 'Clothing',\n",
              " \"Indistar Self Design Viscose Women's Stole\",\n",
              " 'Mast & Harbour Black Synthetic  Clutch',\n",
              " 'Glacier Running Shoes',\n",
              " 'Dressberry Black Synthetic  Clutch',\n",
              " 'Bags, Wallets & Belts',\n",
              " 'Asics Gel-Cumulus 17 Running Shoes',\n",
              " 'Dressberry Black Synthetic  Clutch',\n",
              " 'Mast & Harbour Gold Synthetic  Clutch',\n",
              " 'Asics Gel-Kayano 22 Running Shoes',\n",
              " \"Indistar Self Design Viscose Women's Stole\",\n",
              " 'Dressberry Orange Synthetic  Clutch',\n",
              " 'Dressberry Gold Synthetic  Clutch',\n",
              " 'Dressberry Green Synthetic  Clutch',\n",
              " 'Bags, Wallets & Belts',\n",
              " 'Escan Lace Up',\n",
              " 'Dressberry Gold Synthetic  Clutch',\n",
              " \"Nine Maternity Wear Women's Fit and Flare Dress\",\n",
              " 'Bags, Wallets & Belts',\n",
              " 'Home Furnishing',\n",
              " 'Clothing',\n",
              " 'Sports & Fitness',\n",
              " 'Sports & Fitness',\n",
              " 'Food & Nutrition',\n",
              " 'Home Decor & Festive Needs',\n",
              " 'Clothing',\n",
              " 'Clothing',\n",
              " 'Clothing',\n",
              " 'Jewellery',\n",
              " 'Jewellery',\n",
              " 'Jewellery',\n",
              " 'Home Furnishing',\n",
              " 'Jewellery',\n",
              " 'Clothing',\n",
              " 'Jewellery',\n",
              " 'Footwear',\n",
              " 'Clothing',\n",
              " 'Clothing',\n",
              " 'Clothing',\n",
              " 'Home Decor & Festive Needs',\n",
              " 'Jewellery',\n",
              " 'Jewellery',\n",
              " 'Clothing',\n",
              " 'Clothing',\n",
              " 'Clothing',\n",
              " 'Clothing',\n",
              " 'Clothing',\n",
              " 'Clothing',\n",
              " 'Clothing',\n",
              " 'Clothing',\n",
              " 'Clothing',\n",
              " 'Clothing',\n",
              " 'Clothing',\n",
              " 'Clothing',\n",
              " 'Clothing',\n",
              " 'Clothing',\n",
              " 'Clothing',\n",
              " 'Clothing',\n",
              " 'Clothing',\n",
              " 'Jewellery',\n",
              " 'Jewellery',\n",
              " 'Clothing',\n",
              " 'Clothing',\n",
              " 'Clothing',\n",
              " 'Clothing',\n",
              " 'Clothing',\n",
              " 'Clothing',\n",
              " 'Clothing',\n",
              " 'Clothing',\n",
              " 'Clothing',\n",
              " 'Clothing',\n",
              " 'Clothing',\n",
              " 'Clothing',\n",
              " 'Clothing',\n",
              " 'Clothing',\n",
              " 'Jewellery',\n",
              " 'Jewellery',\n",
              " 'Jewellery',\n",
              " 'Clothing',\n",
              " 'Clothing',\n",
              " 'Jewellery',\n",
              " 'Clothing',\n",
              " 'Jewellery',\n",
              " 'Clothing',\n",
              " 'Clothing',\n",
              " 'Clothing',\n",
              " 'Clothing',\n",
              " 'Clothing',\n",
              " 'Jewellery',\n",
              " 'Jewellery',\n",
              " 'Jewellery',\n",
              " 'Clothing',\n",
              " 'Jewellery',\n",
              " 'Jewellery',\n",
              " 'Jewellery',\n",
              " 'Jewellery',\n",
              " 'Clothing',\n",
              " 'Clothing',\n",
              " 'Clothing',\n",
              " 'Clothing',\n",
              " 'Jewellery',\n",
              " 'Clothing',\n",
              " 'Furniture',\n",
              " 'Clothing',\n",
              " 'Jewellery',\n",
              " 'Jewellery',\n",
              " 'Clothing',\n",
              " 'Clothing',\n",
              " 'Clothing',\n",
              " 'Clothing',\n",
              " 'Clothing',\n",
              " 'Clothing',\n",
              " 'Clothing',\n",
              " 'Clothing',\n",
              " 'Footwear',\n",
              " 'Clothing',\n",
              " 'Clothing',\n",
              " 'Clothing',\n",
              " 'Clothing',\n",
              " 'Clothing',\n",
              " 'Clothing',\n",
              " 'Jewellery',\n",
              " 'Jewellery',\n",
              " 'Clothing',\n",
              " 'Clothing',\n",
              " 'Clothing',\n",
              " 'Jewellery',\n",
              " 'Clothing',\n",
              " 'Clothing',\n",
              " 'Clothing',\n",
              " 'Clothing',\n",
              " 'Jewellery',\n",
              " 'Jewellery',\n",
              " 'Jewellery',\n",
              " 'Clothing',\n",
              " 'Jewellery',\n",
              " 'Jewellery',\n",
              " 'Clothing',\n",
              " 'Clothing',\n",
              " 'Clothing',\n",
              " 'Clothing',\n",
              " 'Clothing',\n",
              " 'Clothing',\n",
              " 'Jewellery',\n",
              " 'Jewellery',\n",
              " 'Jewellery',\n",
              " 'Home Decor & Festive Needs',\n",
              " 'Jewellery',\n",
              " 'Clothing',\n",
              " 'Clothing',\n",
              " 'Clothing',\n",
              " 'Clothing',\n",
              " 'Clothing',\n",
              " 'Jewellery',\n",
              " 'Clothing',\n",
              " 'Clothing',\n",
              " 'Mobiles & Accessories',\n",
              " 'Clothing',\n",
              " 'Beauty and Personal Care',\n",
              " 'Jewellery',\n",
              " 'Jewellery',\n",
              " 'Sunglasses',\n",
              " 'Sunglasses',\n",
              " 'Clothing',\n",
              " 'Clothing',\n",
              " 'Footwear',\n",
              " 'Clothing',\n",
              " 'Clothing',\n",
              " 'Clothing',\n",
              " 'Clothing',\n",
              " 'Clothing',\n",
              " 'Jewellery',\n",
              " 'Clothing',\n",
              " 'Clothing',\n",
              " 'Clothing',\n",
              " 'Clothing',\n",
              " 'Clothing',\n",
              " 'Clothing',\n",
              " 'Jewellery',\n",
              " 'Jewellery',\n",
              " 'Jewellery',\n",
              " 'Clothing',\n",
              " 'Clothing',\n",
              " 'Clothing',\n",
              " 'Clothing',\n",
              " 'Clothing',\n",
              " 'Clothing',\n",
              " 'Clothing',\n",
              " 'Clothing',\n",
              " 'Clothing',\n",
              " 'Clothing',\n",
              " 'Jewellery',\n",
              " 'Jewellery',\n",
              " 'Footwear',\n",
              " 'Footwear',\n",
              " 'Footwear',\n",
              " 'Footwear',\n",
              " 'Footwear',\n",
              " 'Jewellery',\n",
              " 'Jewellery',\n",
              " 'Jewellery',\n",
              " 'Clothing',\n",
              " 'Clothing',\n",
              " 'Clothing',\n",
              " 'Clothing',\n",
              " 'Clothing',\n",
              " 'Clothing',\n",
              " 'Clothing',\n",
              " 'Clothing',\n",
              " 'Clothing',\n",
              " 'Clothing',\n",
              " 'Footwear',\n",
              " 'Footwear',\n",
              " 'Jewellery',\n",
              " 'Clothing',\n",
              " 'Clothing',\n",
              " 'Clothing',\n",
              " 'Clothing',\n",
              " 'Clothing',\n",
              " 'Clothing',\n",
              " 'Jewellery',\n",
              " 'Jewellery',\n",
              " 'Clothing',\n",
              " 'Clothing',\n",
              " 'Clothing',\n",
              " 'Clothing',\n",
              " 'Clothing',\n",
              " 'Clothing',\n",
              " 'Clothing',\n",
              " 'Clothing',\n",
              " 'Clothing',\n",
              " 'Clothing',\n",
              " 'Clothing',\n",
              " 'Jewellery',\n",
              " 'Clothing',\n",
              " 'Clothing',\n",
              " 'Clothing',\n",
              " 'Jewellery',\n",
              " 'Clothing',\n",
              " 'Clothing',\n",
              " 'Clothing',\n",
              " 'Clothing',\n",
              " 'Clothing',\n",
              " 'Clothing',\n",
              " 'Clothing',\n",
              " 'Clothing',\n",
              " 'Clothing',\n",
              " 'Clothing',\n",
              " 'Clothing',\n",
              " 'Clothing',\n",
              " 'Clothing',\n",
              " 'Clothing',\n",
              " 'Clothing',\n",
              " 'Clothing',\n",
              " 'Jewellery',\n",
              " 'Jewellery',\n",
              " 'Jewellery',\n",
              " 'Clothing',\n",
              " 'Clothing',\n",
              " 'Clothing',\n",
              " 'Clothing',\n",
              " 'Clothing',\n",
              " 'Clothing',\n",
              " 'Footwear',\n",
              " 'Clothing',\n",
              " 'Jewellery',\n",
              " 'Home Furnishing',\n",
              " 'Clothing',\n",
              " 'Home Furnishing',\n",
              " 'Clothing',\n",
              " 'Home Furnishing',\n",
              " 'Clothing',\n",
              " 'Mobiles & Accessories',\n",
              " 'Clothing',\n",
              " 'Jewellery',\n",
              " 'Jewellery',\n",
              " 'Clothing',\n",
              " 'Clothing',\n",
              " 'Jewellery',\n",
              " 'Jewellery',\n",
              " 'Clothing',\n",
              " 'Clothing',\n",
              " 'Home Furnishing',\n",
              " 'Home Furnishing',\n",
              " 'Home Furnishing',\n",
              " 'Jewellery',\n",
              " 'Clothing',\n",
              " 'Clothing',\n",
              " 'Clothing',\n",
              " 'Clothing',\n",
              " 'Clothing',\n",
              " 'Clothing',\n",
              " 'Clothing',\n",
              " 'Jewellery',\n",
              " 'Clothing',\n",
              " 'Clothing',\n",
              " 'Clothing',\n",
              " 'Jewellery',\n",
              " 'Clothing',\n",
              " 'Clothing',\n",
              " 'Clothing',\n",
              " 'Clothing',\n",
              " 'Clothing',\n",
              " 'Clothing',\n",
              " 'Clothing',\n",
              " 'Clothing',\n",
              " 'Clothing',\n",
              " 'Clothing',\n",
              " 'Clothing',\n",
              " 'Jewellery',\n",
              " 'Clothing',\n",
              " 'Clothing',\n",
              " 'Clothing',\n",
              " 'Clothing',\n",
              " 'Clothing',\n",
              " 'Clothing',\n",
              " 'Clothing',\n",
              " 'Clothing',\n",
              " 'Clothing',\n",
              " 'Jewellery',\n",
              " 'Clothing',\n",
              " 'Clothing',\n",
              " 'Clothing',\n",
              " 'Clothing',\n",
              " 'Clothing',\n",
              " 'Clothing',\n",
              " 'Clothing',\n",
              " 'Clothing',\n",
              " 'Clothing',\n",
              " 'Clothing',\n",
              " 'Sunglasses',\n",
              " 'Clothing',\n",
              " 'Clothing',\n",
              " 'Clothing',\n",
              " 'Jewellery',\n",
              " 'Clothing',\n",
              " 'Jewellery',\n",
              " 'Clothing',\n",
              " 'Clothing',\n",
              " 'Clothing',\n",
              " 'Clothing',\n",
              " 'Clothing',\n",
              " 'Clothing',\n",
              " 'Clothing',\n",
              " 'Footwear',\n",
              " 'Jewellery',\n",
              " 'Clothing',\n",
              " 'Clothing',\n",
              " 'Jewellery',\n",
              " 'Jewellery',\n",
              " 'Footwear',\n",
              " 'Footwear',\n",
              " 'Footwear',\n",
              " 'Footwear',\n",
              " 'Jewellery',\n",
              " 'Jewellery',\n",
              " 'Jewellery',\n",
              " 'Jewellery',\n",
              " 'Jewellery',\n",
              " 'Jewellery',\n",
              " 'Jewellery',\n",
              " 'Jewellery',\n",
              " 'Clothing',\n",
              " 'Clothing',\n",
              " 'Clothing',\n",
              " 'Clothing',\n",
              " 'Clothing',\n",
              " 'Clothing',\n",
              " 'Clothing',\n",
              " 'Clothing',\n",
              " 'Clothing',\n",
              " 'Clothing',\n",
              " 'Clothing',\n",
              " 'Clothing',\n",
              " 'Clothing',\n",
              " 'Home Furnishing',\n",
              " 'Home Furnishing',\n",
              " 'Home Furnishing',\n",
              " 'Home Furnishing',\n",
              " 'Home Furnishing',\n",
              " 'Jewellery',\n",
              " 'Footwear',\n",
              " 'Jewellery',\n",
              " 'Jewellery',\n",
              " 'Jewellery',\n",
              " 'Jewellery',\n",
              " 'Jewellery',\n",
              " 'Jewellery',\n",
              " 'Clothing',\n",
              " 'Jewellery',\n",
              " 'Jewellery',\n",
              " 'Jewellery',\n",
              " 'Jewellery',\n",
              " 'Clothing',\n",
              " 'Clothing',\n",
              " 'Clothing',\n",
              " 'Jewellery',\n",
              " 'Clothing',\n",
              " 'Clothing',\n",
              " 'Clothing',\n",
              " 'Jewellery',\n",
              " 'Jewellery',\n",
              " 'Jewellery',\n",
              " 'Clothing',\n",
              " 'Clothing',\n",
              " 'Clothing',\n",
              " 'Clothing',\n",
              " 'Clothing',\n",
              " 'Clothing',\n",
              " 'Clothing',\n",
              " 'Clothing',\n",
              " 'Clothing',\n",
              " 'Clothing',\n",
              " 'Clothing',\n",
              " 'Clothing',\n",
              " 'Clothing',\n",
              " 'Clothing',\n",
              " 'Clothing',\n",
              " 'Footwear',\n",
              " 'Footwear',\n",
              " 'Footwear',\n",
              " 'Footwear',\n",
              " 'Footwear',\n",
              " 'Clothing',\n",
              " 'Jewellery',\n",
              " 'Clothing',\n",
              " 'Clothing',\n",
              " 'Clothing',\n",
              " 'Clothing',\n",
              " 'Clothing',\n",
              " 'Clothing',\n",
              " 'Baby Care',\n",
              " 'Mobiles & Accessories',\n",
              " 'Jewellery',\n",
              " 'Jewellery',\n",
              " 'Jewellery',\n",
              " 'Jewellery',\n",
              " 'Clothing',\n",
              " 'Clothing',\n",
              " 'Clothing',\n",
              " 'Clothing',\n",
              " 'Jewellery',\n",
              " 'Clothing',\n",
              " 'Clothing',\n",
              " 'Jewellery',\n",
              " 'Clothing',\n",
              " 'Clothing',\n",
              " 'Jewellery',\n",
              " 'Clothing',\n",
              " 'Clothing',\n",
              " 'Clothing',\n",
              " 'Clothing',\n",
              " 'Jewellery',\n",
              " 'Clothing',\n",
              " 'Clothing',\n",
              " 'Clothing',\n",
              " 'Clothing',\n",
              " 'Clothing',\n",
              " 'Clothing',\n",
              " 'Clothing',\n",
              " 'Clothing',\n",
              " 'Jewellery',\n",
              " 'Jewellery',\n",
              " 'Clothing',\n",
              " 'Jewellery',\n",
              " 'Clothing',\n",
              " 'Home Decor & Festive Needs',\n",
              " 'Home Decor & Festive Needs',\n",
              " 'Home Decor & Festive Needs',\n",
              " 'Home Decor & Festive Needs',\n",
              " 'Clothing',\n",
              " 'Clothing',\n",
              " 'Clothing',\n",
              " 'Clothing',\n",
              " 'Jewellery',\n",
              " 'Jewellery',\n",
              " 'Jewellery',\n",
              " 'Clothing',\n",
              " 'Clothing',\n",
              " 'Clothing',\n",
              " 'Clothing',\n",
              " 'Clothing',\n",
              " 'Clothing',\n",
              " 'Clothing',\n",
              " 'Clothing',\n",
              " 'Clothing',\n",
              " 'Clothing',\n",
              " 'Clothing',\n",
              " 'Jewellery',\n",
              " 'Jewellery',\n",
              " 'Clothing',\n",
              " 'Clothing',\n",
              " 'Jewellery',\n",
              " 'Clothing',\n",
              " 'Clothing',\n",
              " 'Clothing',\n",
              " 'Jewellery',\n",
              " 'Clothing',\n",
              " 'Clothing',\n",
              " 'Clothing',\n",
              " 'Clothing',\n",
              " 'Clothing',\n",
              " 'Clothing',\n",
              " 'Home Decor & Festive Needs',\n",
              " 'Home Decor & Festive Needs',\n",
              " 'Home Decor & Festive Needs',\n",
              " 'Home Decor & Festive Needs',\n",
              " 'Home Decor & Festive Needs',\n",
              " 'Home Decor & Festive Needs',\n",
              " 'Jewellery',\n",
              " 'Clothing',\n",
              " 'Clothing',\n",
              " 'Clothing',\n",
              " 'Clothing',\n",
              " 'Clothing',\n",
              " 'Clothing',\n",
              " 'Clothing',\n",
              " 'Clothing',\n",
              " 'Clothing',\n",
              " 'Clothing',\n",
              " 'Clothing',\n",
              " 'Clothing',\n",
              " 'Clothing',\n",
              " 'Clothing',\n",
              " 'Clothing',\n",
              " 'Jewellery',\n",
              " 'Clothing',\n",
              " 'Clothing',\n",
              " 'Clothing',\n",
              " 'Clothing',\n",
              " 'Clothing',\n",
              " 'Clothing',\n",
              " 'Clothing',\n",
              " 'Clothing',\n",
              " 'Clothing',\n",
              " 'Clothing',\n",
              " 'Clothing',\n",
              " 'Clothing',\n",
              " 'Clothing',\n",
              " 'Clothing',\n",
              " 'Clothing',\n",
              " 'Clothing',\n",
              " 'Jewellery',\n",
              " 'Clothing',\n",
              " 'Clothing',\n",
              " 'Jewellery',\n",
              " 'Jewellery',\n",
              " 'Jewellery',\n",
              " 'Jewellery',\n",
              " 'Jewellery',\n",
              " 'Clothing',\n",
              " 'Clothing',\n",
              " 'Clothing',\n",
              " 'Clothing',\n",
              " 'Clothing',\n",
              " 'Clothing',\n",
              " 'Toys & School Supplies',\n",
              " 'Toys & School Supplies',\n",
              " 'Kitchen & Dining',\n",
              " 'Kitchen & Dining',\n",
              " 'Mobiles & Accessories',\n",
              " 'Mobiles & Accessories',\n",
              " 'Pens & Stationery',\n",
              " 'Pens & Stationery',\n",
              " 'Kitchen & Dining',\n",
              " 'Pens & Stationery',\n",
              " 'Beauty and Personal Care',\n",
              " 'Clothing',\n",
              " 'Kitchen & Dining',\n",
              " 'Home & Kitchen',\n",
              " 'Kitchen & Dining',\n",
              " 'Clothing',\n",
              " 'Kitchen & Dining',\n",
              " 'Mobiles & Accessories',\n",
              " 'Mobiles & Accessories',\n",
              " 'Mobiles & Accessories',\n",
              " 'Mobiles & Accessories',\n",
              " 'Mobiles & Accessories',\n",
              " 'Mobiles & Accessories',\n",
              " 'Mobiles & Accessories',\n",
              " 'Mobiles & Accessories',\n",
              " 'Mobiles & Accessories',\n",
              " 'Mobiles & Accessories',\n",
              " 'Home Decor & Festive Needs',\n",
              " 'Home Decor & Festive Needs',\n",
              " 'Home Decor & Festive Needs',\n",
              " 'Clothing',\n",
              " 'Clothing',\n",
              " 'Home Furnishing',\n",
              " 'Baby Care',\n",
              " 'Sports & Fitness',\n",
              " 'Footwear',\n",
              " 'Home Furnishing',\n",
              " 'Home Decor & Festive Needs',\n",
              " 'Home Furnishing',\n",
              " 'Home Decor & Festive Needs',\n",
              " 'Home Decor & Festive Needs',\n",
              " 'Home Decor & Festive Needs',\n",
              " 'Home Decor & Festive Needs',\n",
              " 'Baby Care',\n",
              " 'Clothing',\n",
              " 'Clothing',\n",
              " 'Beauty and Personal Care',\n",
              " 'Kitchen & Dining',\n",
              " 'Clothing',\n",
              " 'Kitchen & Dining',\n",
              " 'Clothing',\n",
              " 'Clothing',\n",
              " 'Home Decor & Festive Needs',\n",
              " 'Beauty and Personal Care',\n",
              " 'Clothing',\n",
              " 'Kitchen & Dining',\n",
              " 'Kitchen & Dining',\n",
              " 'Clothing',\n",
              " 'Kitchen & Dining',\n",
              " 'Kitchen & Dining',\n",
              " 'Kitchen & Dining',\n",
              " 'Kitchen & Dining',\n",
              " 'Kitchen & Dining',\n",
              " 'Kitchen & Dining',\n",
              " 'Kitchen & Dining',\n",
              " 'Kitchen & Dining',\n",
              " 'Kitchen & Dining',\n",
              " 'Kitchen & Dining',\n",
              " 'Computers',\n",
              " 'Clothing',\n",
              " 'Kitchen & Dining',\n",
              " 'Beauty and Personal Care',\n",
              " 'Clothing',\n",
              " 'Kitchen & Dining',\n",
              " 'Clothing',\n",
              " 'Clothing',\n",
              " 'Clothing',\n",
              " 'Clothing',\n",
              " 'Kitchen & Dining',\n",
              " 'Kitchen & Dining',\n",
              " 'Beauty and Personal Care',\n",
              " 'Kitchen & Dining',\n",
              " 'Kitchen & Dining',\n",
              " 'Kitchen & Dining',\n",
              " 'Clothing',\n",
              " 'Kitchen & Dining',\n",
              " 'Beauty and Personal Care',\n",
              " 'Clothing',\n",
              " 'Clothing',\n",
              " 'Clothing',\n",
              " 'Computers',\n",
              " 'Footwear',\n",
              " 'Footwear',\n",
              " 'Pens & Stationery',\n",
              " 'Clothing',\n",
              " 'Home Decor & Festive Needs',\n",
              " 'Footwear',\n",
              " 'Jewellery',\n",
              " 'Clothing',\n",
              " 'Footwear',\n",
              " 'Mobiles & Accessories',\n",
              " 'Jewellery',\n",
              " 'Footwear',\n",
              " 'Clothing',\n",
              " 'Clothing',\n",
              " 'Automotive',\n",
              " 'Footwear',\n",
              " 'Automotive',\n",
              " 'Tools & Hardware',\n",
              " ...]"
            ]
          },
          "metadata": {
            "tags": []
          },
          "execution_count": 346
        }
      ]
    },
    {
      "cell_type": "code",
      "metadata": {
        "colab": {
          "base_uri": "https://localhost:8080/"
        },
        "id": "-oaJFJ-manyL",
        "outputId": "1b71b47c-98f3-4fb2-cfd9-7a01e6e1e1c6"
      },
      "source": [
        "primary_category=pd.DataFrame(primary_category,columns=[\"Category\"])\n",
        "print(\"Number of Unique Categories\",len(primary_category[\"Category\"].value_counts()))"
      ],
      "execution_count": null,
      "outputs": [
        {
          "output_type": "stream",
          "text": [
            "Number of Unique Categories 265\n"
          ],
          "name": "stdout"
        }
      ]
    },
    {
      "cell_type": "markdown",
      "metadata": {
        "id": "eh9V8-fBbXUS"
      },
      "source": [
        "After looking at value_counts(), we can observe there is some **Unnecesarry Categories**."
      ]
    },
    {
      "cell_type": "code",
      "metadata": {
        "colab": {
          "base_uri": "https://localhost:8080/"
        },
        "id": "HignsAG_by71",
        "outputId": "bb83b150-b6f2-4ad8-a07e-0c36e9711368"
      },
      "source": [
        "primary_category_top=Counter(primary_category[\"Category\"]).most_common(266)\n",
        "primary_category_top"
      ],
      "execution_count": null,
      "outputs": [
        {
          "output_type": "execute_result",
          "data": {
            "text/plain": [
              "[('Clothing', 6198),\n",
              " ('Jewellery', 3531),\n",
              " ('Footwear', 1227),\n",
              " ('Mobiles & Accessories', 1099),\n",
              " ('Automotive', 1012),\n",
              " ('Home Decor & Festive Needs', 929),\n",
              " ('Beauty and Personal Care', 710),\n",
              " ('Home Furnishing', 700),\n",
              " ('Kitchen & Dining', 647),\n",
              " ('Computers', 578),\n",
              " ('Watches', 530),\n",
              " ('Baby Care', 483),\n",
              " ('Tools & Hardware', 391),\n",
              " ('Toys & School Supplies', 330),\n",
              " ('Pens & Stationery', 313),\n",
              " ('Bags, Wallets & Belts', 265),\n",
              " ('Furniture', 180),\n",
              " ('Sports & Fitness', 166),\n",
              " ('Cameras & Accessories', 82),\n",
              " ('Home Improvement', 81),\n",
              " ('Health & Personal Care Appliances', 43),\n",
              " ('Sunglasses', 40),\n",
              " ('Gaming', 35),\n",
              " ('Pet Supplies', 30),\n",
              " ('Home & Kitchen', 24),\n",
              " ('Home Entertainment', 19),\n",
              " ('eBooks', 15),\n",
              " ('Eyewear', 10),\n",
              " (\"Clovia Women's Full Coverage Bra\", 9),\n",
              " (\"Vishudh Printed Women's Straight Kurta\", 8),\n",
              " (\"Lilliput Top Baby Girl's  Combo\", 8),\n",
              " ('Olvin Aviator Sunglasses', 7),\n",
              " (\"Clovia Women's T-Shirt Bra\", 6),\n",
              " (\"MASARA Solid Women's Straight Kurta\", 5),\n",
              " ('Dressberry Gold Synthetic  Clutch', 4),\n",
              " ('Pu-Good Women Flats', 4),\n",
              " ('FEET FLOW Women Flats', 4),\n",
              " ('Olvin Wayfarer Sunglasses', 4),\n",
              " ('Firangi Cotton, Polyester Free Floor Mat Firangi...', 4),\n",
              " ('Household Supplies', 4),\n",
              " (\"Indistar Self Design Viscose Women's Stole\", 3),\n",
              " ('Treppe Bellies', 3),\n",
              " ('Frabjous German silver Rings For Women Alloy Zir...', 3),\n",
              " ('Pout Brass Bangle', 3),\n",
              " ('Olvin Oval Sunglasses', 3),\n",
              " ('Dilan Jewels Alloy Zircon 18K Yellow Gold Bangle...', 3),\n",
              " (\"Dassler Slim Fit Women's Multicolor Jeans\", 3),\n",
              " (\"Ruhi's Creations Polyester Silk Blend Cartoon Ki...\", 3),\n",
              " ('Food & Nutrition', 2),\n",
              " ('Mast & Harbour Black Synthetic  Clutch', 2),\n",
              " ('Dressberry Black Synthetic  Clutch', 2),\n",
              " ('ANAND ARCHIES Girls Flats', 2),\n",
              " ('Wearable Smart Devices', 2),\n",
              " (\"TSG Breeze Printed Women's Round Neck Multicolor...\", 2),\n",
              " (\"HANS Men's Crew Length Socks\", 2),\n",
              " (\"TIMBERLAKE Slim Fit Fit Women's Brown Jeans\", 2),\n",
              " ('COIRFIT Single Coir Mattress', 2),\n",
              " ('Siyas Collection Lac Cubic Zirconia Bangle Set (...', 2),\n",
              " (\"killys Men's Solid No Show Socks\", 2),\n",
              " ('INDILEGO Women Flats', 2),\n",
              " (\"TIMBERLAKE Slim Fit Fit Women's Red Jeans\", 2),\n",
              " ('Olvin Rectangular Sunglasses', 2),\n",
              " ('D&D Women Flats', 2),\n",
              " (\"Ajaero Slim Fit Women's Dark Blue Jeans\", 2),\n",
              " (\"The Cotton Company Solid Women's Polo Neck Pink ...\", 2),\n",
              " (\"Camey Men's Quarter Length Socks\", 2),\n",
              " (\"fourgee Slim Fit Women's Blue Jeans\", 2),\n",
              " ('Urban Girl Foundation Brush (Pack of 10)', 2),\n",
              " ('Crafty Hands Kutchchi Mirrorwork Tapestry (Maroon)', 2),\n",
              " (\"GALLOWAY skinny Fit Women's Jeans\", 2),\n",
              " (\"EASIES Solid Single Breasted Casual Men's Blazer\", 2),\n",
              " ('Corcepts Universal Tablet HD Ultra Clear Transpa...', 2),\n",
              " ('Eternal Gandhi Super Series Crystal Paper Weight...', 1),\n",
              " ('Bengal Blooms Rose Artificial Plant  with Pot (3...', 1),\n",
              " (\"Vishudh Printed Women's Anarkali Kurta\", 1),\n",
              " ('BuildTrack PIR Wireless Motion Sensor - One Swit...', 1),\n",
              " ('Skayvon SUMMERSIBLE SINGLE PHASE PUMP CONTROLLER...', 1),\n",
              " ('Skayvon SUBMERSIBBLE THREE PHASE PUMP CONTROLLER...', 1),\n",
              " ('Behringer Xenyx 502 Analog Sound Mixer', 1),\n",
              " (\"Noor Embroidered Women's Straight Kurta\", 1),\n",
              " (\"Libas Printed Women's A-line Kurta\", 1),\n",
              " (\"Libas Printed Women's Anarkali Kurta\", 1),\n",
              " ('Cellbazaar Blackberry 8520 WHITE LCD LCD (YIT-562)', 1),\n",
              " (\"Sisel Printed Poly Cotton Women's Stole\", 1),\n",
              " ('Knight Ace Kraasa Sports Running Shoes, Cycling ...', 1),\n",
              " ('Glacier Running Shoes', 1),\n",
              " ('Asics Gel-Cumulus 17 Running Shoes', 1),\n",
              " ('Mast & Harbour Gold Synthetic  Clutch', 1),\n",
              " ('Asics Gel-Kayano 22 Running Shoes', 1),\n",
              " ('Dressberry Orange Synthetic  Clutch', 1),\n",
              " ('Dressberry Green Synthetic  Clutch', 1),\n",
              " ('Escan Lace Up', 1),\n",
              " (\"Nine Maternity Wear Women's Fit and Flare Dress\", 1),\n",
              " ('ANAND ARCHIES Girls Wedges', 1),\n",
              " ('Prime Printed 8 Seater Table Cover (Multicolor, ...', 1),\n",
              " ('Speedwav 240437 Sun Shade For Hyundai i10 (Dashb...', 1),\n",
              " (\"Vitamins Solid Baby Girl's Basic Shorts\", 1),\n",
              " ('Sumo Baby Walker (Red)', 1),\n",
              " (\"Kombee Girl's Printed Red, Pink Top & Capri Set\", 1),\n",
              " ('NEWGEN TECH EO-HS3303 218 Wired Headset (White)', 1),\n",
              " ('Automation & Robotics', 1),\n",
              " ('K&P Dr.Ambedkar Large 04 Showpiece  -  19 cm (Po...', 1),\n",
              " ('K&P Lord Ganesha Large 03 Showpiece  -  19 cm (P...', 1),\n",
              " ('Adidas IND PRO THI GUA Thigh Guard (White, Blue,...', 1),\n",
              " ('Bootwale Bellies', 1),\n",
              " ('clickforsign Avoid Contanimation Wash your Hands...', 1),\n",
              " ('Kanvas Bellies', 1),\n",
              " ('Klaur Melbourne Bellies', 1),\n",
              " ('Clickforsign Vehicles parked Illegally will be t...', 1),\n",
              " ('clickforsign Sound horn Before entering Emergenc...', 1),\n",
              " (\"kem Flow Gold skinny Fit Baby Girl's Blue Jeans\", 1),\n",
              " ('Carbanao Chrome Grill Chevrolet Cruze Car Grill ...', 1),\n",
              " ('Oddy RS 1.5 X 2 100 Sheets Self Stick Reposition...', 1),\n",
              " ('Synergy SFJB0105 Grocery Bag (Blue)', 1),\n",
              " ('SHOPOJ White Paper Sky Lantern (80 cm X 34 cm, P...', 1),\n",
              " (\"SUPERMOD Men's Brief\", 1),\n",
              " ('Zevrr Sterling Silver Swarovski Zirconia Platinu...', 1),\n",
              " ('Rasav Jewels Yellow Gold Diamond 18 K Ring', 1),\n",
              " ('Royal Seal Creations 40 ST COLOR Silver Zircon N...', 1),\n",
              " (\"ANASAZI Casual 3/4 Sleeve Solid Women's Top\", 1),\n",
              " ('INVENTURE RETAIL Nail Cutter', 1),\n",
              " (\"Fabpoppy Printed Women's Jumpsuit\", 1),\n",
              " ('Power Smart Quick Charging Pack For PAN CGR-DU-2...', 1),\n",
              " ('Gking Hand Stiched Steering Cover For Maruti Ert...', 1),\n",
              " ('GM Power mate 4 Strip Surge Protector (White)', 1),\n",
              " ('Shrih SH-0192 Wired USB Flexible Keyboard (Red)', 1),\n",
              " (\"Threads & Pals Full Sleeve Printed, Solid Men's ...\", 1),\n",
              " (\"Threads & Pals Full Sleeve Self Design Men's Swe...\", 1),\n",
              " ('Gking Hand Stiched Steering Cover For Renault Sc...', 1),\n",
              " ('Power Smart Quick Charging Pack For PAN CGR-D28 ...', 1),\n",
              " ('xy decor Cotton Sofa Cover (white Pack of 6)', 1),\n",
              " ('Favourite BikerZ 3514 RAD air filter Ionic Air F...', 1),\n",
              " (\"Disney Printed Baby Boy's Hooded Grey T-Shirt\", 1),\n",
              " (\"Little Stars Girl's A-line Multicolor Dress\", 1),\n",
              " ('The Crazy Me 1 Compartments Eco-Friendly leather...', 1),\n",
              " (\"fourgee Slim Fit Boy's Black Jeans\", 1),\n",
              " (\"Laser X Checkered Men's Boxer (Pack of 4)\", 1),\n",
              " ('INKT INKT A5 Wiro Notebook A5 Notebook Ring Boun...', 1),\n",
              " (\"E'Hiose Girl's Leggings (Pack of 6)\", 1),\n",
              " ('Lucky Thailand GL/ LG30 Glass (300 ml, Clear, Pa...', 1),\n",
              " ('Ocean GP/Pyramid Glass (300 ml, Clear, Pack of 12)', 1),\n",
              " ('Wella Elements Leight Weight Renewing Conditione...', 1),\n",
              " ('classyworld Brass Cufflink (Silver-01)', 1),\n",
              " ('Urban Girl Foundation Brush (Pack of 12)', 1),\n",
              " ('Jazz Eyewears Over-sized Sunglasses', 1),\n",
              " (\"Miss Wow Slim Fit Women's Blue Jeans\", 1),\n",
              " ('SMART TRADERS Women Wedges', 1),\n",
              " (\"PrivateLifes MasterPiece Women's Push-up Bra\", 1),\n",
              " (\"Spa Culture Fit Fit Women's Black Jeans\", 1),\n",
              " (\"run of luck Solid Women's Round Neck Dark Blue T...\", 1),\n",
              " ('SAY UV Sterilizer Solid Filter Cartridge (0, Pac...', 1),\n",
              " ('Urban Girl Foundation Brush (Pack of 7)', 1),\n",
              " (\"Legmark Slim Fit Women's Light Blue Jeans\", 1),\n",
              " (\"piftif Women's Sports Bra\", 1),\n",
              " ('REMSON INDIA Women Flats', 1),\n",
              " (\"Starsy Solid Women's Round Neck Green T-Shirt\", 1),\n",
              " (\"Oly Two Fit Fit Women's Black Jeans\", 1),\n",
              " (\"soie Fashion Women's Sports Bra\", 1),\n",
              " (\"Auraa Men's, Women's Solid No Show Socks\", 1),\n",
              " (\"e-Fresh Boy's Brief (Pack of 5)\", 1),\n",
              " (\"TIMBERLAKE Slim Fit Fit Women's Blue Jeans\", 1),\n",
              " ('NEWGEN TECH EO-HS3303 179 Wired Headset (White)', 1),\n",
              " (\"Attitude Printed Women's Round Neck Black T-Shirt\", 1),\n",
              " ('Kalpaveda Copper Bowl (Gold, Pack of 1)', 1),\n",
              " ('Walkline Slippers', 1),\n",
              " (\"e-Fresh Baby Boy's Brief (Pack of 10)\", 1),\n",
              " ('NEWGEN TECH EO-HS3303 58 Wired Headset (White)', 1),\n",
              " (\"Ruhi's Creations Cotton Floral King sized Double...\", 1),\n",
              " ('SAY Thread Wounded Candle 10\\\\\" Set of 4 pcs Solid...', 1),\n",
              " ('Samprada Modern art Tapestry (Black, Pink)', 1),\n",
              " ('Naaz Dart game Board Game', 1),\n",
              " (\"Oly Two Fit Fit Women's Dark Blue Jeans\", 1),\n",
              " ('classyworld Brass Cufflink (Grey-02)', 1),\n",
              " (\"Viral Girl Women's Full Coverage Bra\", 1),\n",
              " ('Wellon Fittings set (16 pieces) for RO Water Pur...', 1),\n",
              " ('Amita Home Furnishing Cotton Printed Single Beds...', 1),\n",
              " ('Impala Alloy Cufflink (White)', 1),\n",
              " ('Naaz 2 in 1 Paper Quilling Board Game', 1),\n",
              " (\"Starsy Printed Women's Round Neck Black T-Shirt\", 1),\n",
              " (\"Fly U Slim Fit Fit Women's Brown Jeans\", 1),\n",
              " (\"tadd Men's, Women's Ankle Length Socks\", 1),\n",
              " (\"Dolz Slim Fit Fit Women's Brown Jeans\", 1),\n",
              " ('Shrih Toe & Foot Protector Pain Relief Pad (Pack...', 1),\n",
              " (\"LondonHouze Printed Women's Round Neck Grey T-Shirt\", 1),\n",
              " (\"Legmark Slim Fit Women's Blue Jeans\", 1),\n",
              " ('Linzina Fashions LIN-HOSS-1.5 Faucet Set', 1),\n",
              " (\"soie Fashion Women's Full Coverage Bra\", 1),\n",
              " (\"Clovia Women's Plunge Bra\", 1),\n",
              " ('Foot Candy Women Flats', 1),\n",
              " ('Amita Home Furnishing Cotton Floral Single Bedsh...', 1),\n",
              " (\"883 Police Full Sleeve Solid Men's Jacket\", 1),\n",
              " ('Style World Women Flats', 1),\n",
              " ('Just Wow Women Flats', 1),\n",
              " ('SMART TRADERS Women Flats', 1),\n",
              " (\"Ruhi's Creations Cotton Cartoon King sized Doubl...\", 1),\n",
              " ('SJ Bushnell 122/1000M Binoculars (36 mm, Black)', 1),\n",
              " ('SJ Barstel 56m / 1000m Binoculars (30 mm, Black)', 1),\n",
              " ('SJ Comet Zoom DPSI Binoculars (30 mm, Black)', 1),\n",
              " ('Pia International 10X70X70 WITH ZOOM SAKURA Bino...', 1),\n",
              " ('SHOPOJ Purple Paper Sky Lantern (80 cm X 34 cm, ...', 1),\n",
              " ('Car vastra 1pcs Car Vastra Honda Beige Backrest ...', 1),\n",
              " ('SHOPOJ Yellow Paper Sky Lantern (80 cm X 34 cm, ...', 1),\n",
              " ('SHOPOJ Multicolor Paper Sky Lantern (80 cm X 34 ...', 1),\n",
              " ('Sj Bushnell 119M / 1000 Binoculars (36 mm, Black)', 1),\n",
              " (\"FIFO Bottom Women's  Combo\", 1),\n",
              " ('Himmlisch 20503 Car Bottle Holder (Plastic)', 1),\n",
              " ('V&G Professional HD-37 Hair Dryer (Red)', 1),\n",
              " ('Anuradha Art Stylish Hair Clip (Blue)', 1),\n",
              " ('Shonaya Printed Bhagalpuri Art Silk Sari', 1),\n",
              " ('Anuradha Art Stylish Hair Clip (Black)', 1),\n",
              " ('JUSF2 Black Color Hair Band (Multicolor)', 1),\n",
              " ('Sonaxo Men Running Shoes', 1),\n",
              " ('Koie  Battery - For Samsung 7562 Premium Quality...', 1),\n",
              " ('OEM 170774 Bike Side Stand', 1),\n",
              " ('Kittens Boys Flats', 1),\n",
              " ('AutoKraftZ Optimum Locking Device For Bajaj Puls...', 1),\n",
              " ('Dremel 2615.023.132 Plastic Friction Work Bench ...', 1),\n",
              " ('ABEEZ Boys, Men, Girls (Black, Pack of 1)', 1),\n",
              " ('Joyra Heart Sterling Silver Swarovski Crystal, S...', 1),\n",
              " (\"BLM Casual Printed Women's Kurti\", 1),\n",
              " (\"SMART DENIM Solid Women's White Denim Shorts\", 1),\n",
              " ('ATV Pouch for Acer Liquid Z330 (STEEL BLUE)', 1),\n",
              " (\"Be 13 Printed Boy's Round Neck T-Shirt (Pack of 2)\", 1),\n",
              " ('Taurus Black & white Lace Up', 1),\n",
              " ('Abhinl Fashion Cotton Printed Semi-stitched Salw...', 1),\n",
              " (\"UFO Self Design Round Neck Casual Girl's Sweater\", 1),\n",
              " (\"LGRL Women's Leggings\", 1),\n",
              " (\"Breakbounce Men's Vest\", 1),\n",
              " (\"UFO Full Sleeve Solid Girl's Jacket\", 1),\n",
              " ('BALAJI EXPORTS Bottled Wine Cooler (9 Bottles)', 1),\n",
              " ('Siemens 5SL Betagard 5SL MCB (1)', 1),\n",
              " ('Remax Rm-10000 Remax Vanguard 10000mah 10000 mAh...', 1),\n",
              " ('Boreal Roller Brush', 1),\n",
              " ('Srajanaa sr114 Travel Shaving Kit (Black)', 1),\n",
              " (\"Selfcare Women's Thong Panty (Pack of 3)\", 1),\n",
              " ('Sugandh Vatika 24 Natural Masala, Sandal Incense...', 1),\n",
              " ('Arial Morris Women Flats', 1),\n",
              " ('Zikrak Exim Women Wedges', 1),\n",
              " ('Zixtro Bug (Black, Backpack)', 1),\n",
              " (\"New Darling Women's Printed Top & Pyjama Set\", 1),\n",
              " (\"RajeshFashion Women's Leggings\", 1),\n",
              " (\"United Colors of Benetton Girl's Trousers\", 1),\n",
              " ('SRPC BAOER STARWALKER EXECUTIVE ROLLERBALL Pen G...', 1),\n",
              " ('Kraft Seeds Rosemary Herb (Pack Of 5) Seed (75 p...', 1),\n",
              " ('Autoplus M AP15 Arm Sleeve (Black)', 1),\n",
              " ('Autoplus M AP18 Arm Sleeve (Black)', 1),\n",
              " ('Kraft Seeds Thyme Herbs Seed (200 per packet)', 1),\n",
              " ('Kraft Seeds Dill Herb Seed (50 per packet)', 1),\n",
              " (\"Leading lady Women's Camisole\", 1),\n",
              " (\"Yo Baby Girl's Trousers\", 1),\n",
              " ('THERISE MD0005 Wired Headset (Pink)', 1),\n",
              " ('Nut Khut Embroidered Kurta & Churidar', 1),\n",
              " (\"Vinenzia Printed Winter Men's Gloves\", 1),\n",
              " ('Planet Waves Woodstock Strap (Multicolor)', 1),\n",
              " ('Speedwav 216456 Manual Rear View Mirror (Right, ...', 1),\n",
              " ('Speedwav 216510 Manual Rear View Mirror (Right, ...', 1),\n",
              " ('Speedwav 216552 Manual Rear View Mirror (Right, ...', 1),\n",
              " ('Speedwav 186136 Manual Rear View Mirror (Right, ...', 1),\n",
              " ('Small Toes Bellies', 1),\n",
              " ('Clovia Lingerie Set', 1),\n",
              " ('Speedwav 186926 Royal Enfield 350 Twin Spark LED...', 1),\n",
              " ('Speedwav 186879 Bajaj Pulsar 200 NS DTS-i LED In...', 1),\n",
              " (\"Pazel Slim Fit Men's Jeans\", 1),\n",
              " ('SMART TRADERS Girls Bellies', 1),\n",
              " ('Areon Luxurious Fragrance Long Lasting Car,Home,...', 1)]"
            ]
          },
          "metadata": {
            "tags": []
          },
          "execution_count": 348
        }
      ]
    },
    {
      "cell_type": "markdown",
      "metadata": {
        "id": "gjCdfR4R2IET"
      },
      "source": [
        "### Now, to better Visualize the Data lets plot it."
      ]
    },
    {
      "cell_type": "code",
      "metadata": {
        "scrolled": false,
        "colab": {
          "base_uri": "https://localhost:8080/",
          "height": 1000
        },
        "id": "vXwhTyPV2v0d",
        "outputId": "fb22e674-482c-4c2f-e26a-ef5ca3017c00"
      },
      "source": [
        "# When we will try to plot the categories and its count , we will get a messy graph as there are 265 categories.\n",
        "\n",
        "plt.figure(figsize=(20,20))\n",
        "plt.title(\"Count Vs Category\")\n",
        "sns.countplot(x=\"Category\",data=primary_category,palette=\"rainbow\",\n",
        "              order=primary_category[\"Category\"].value_counts().index)\n",
        "plt.xticks(rotation=90,fontsize = 10, ha='left')\n",
        "plt.show()"
      ],
      "execution_count": null,
      "outputs": [
        {
          "output_type": "display_data",
          "data": {
            "image/png": "[encoded data removed]",
            "text/plain": [
              "<Figure size 1440x1440 with 1 Axes>"
            ]
          },
          "metadata": {
            "tags": [],
            "needs_background": "light"
          }
        }
      ]
    },
    {
      "cell_type": "markdown",
      "metadata": {
        "id": "Bw-bNPca3l1W"
      },
      "source": [
        "### Observation-1 \n",
        "We can now look at the plot and observe that there are way too many categories with less then 200 counts and a lot with just 1 and 2.\n",
        "To Better visualize the data, Let's first observe the categories with high count.\n",
        "\n"
      ]
    },
    {
      "cell_type": "code",
      "metadata": {
        "id": "RWk9S6PY2v0e"
      },
      "source": [
        "# A function which returns a output containg the top categories with more then 'n' counts.\n",
        "\n",
        "\n",
        "# Here, n stands for the count of categories , and bottom, if you want the categories with most/least count.\n",
        "# and 'List', do we need a list or dataframe.\n",
        "def count_of_category(n,bottom=False,List=False):\n",
        "    output=[]\n",
        "    primary_category_top=Counter(primary_category[\"Category\"]).most_common(266)\n",
        "    if bottom:\n",
        "      for i in primary_category_top:\n",
        "        if i[1]<=n:\n",
        "            output.append(i)\n",
        "    else:\n",
        "      for i in primary_category_top:\n",
        "        if i[1]>=n:\n",
        "          output.append(i)\n",
        "    if not List:\n",
        "      output=pd.DataFrame(output,columns=[\"Category\",\"Count\"])\n",
        "    return output"
      ],
      "execution_count": null,
      "outputs": []
    },
    {
      "cell_type": "code",
      "metadata": {
        "id": "6az50tE38rXS"
      },
      "source": [
        "#Now lets try to find the categories with more then 500 counts \n",
        "top_500_category = count_of_category(500) "
      ],
      "execution_count": null,
      "outputs": []
    },
    {
      "cell_type": "code",
      "metadata": {
        "id": "TTVfVkvb8rew",
        "colab": {
          "base_uri": "https://localhost:8080/",
          "height": 573
        },
        "outputId": "63c3bc07-6455-4900-f307-e34043b106eb"
      },
      "source": [
        "sns.catplot(\"Category\", \"Count\", data=top_500_category, kind='bar',aspect=2,palette='rainbow')\n",
        "plt.xticks(rotation=90)\n",
        "plt.show()\n"
      ],
      "execution_count": null,
      "outputs": [
        {
          "output_type": "stream",
          "text": [
            "/usr/local/lib/python3.7/dist-packages/seaborn/_decorators.py:43: FutureWarning: Pass the following variables as keyword args: x, y. From version 0.12, the only valid positional argument will be `data`, and passing other arguments without an explicit keyword will result in an error or misinterpretation.\n",
            "  FutureWarning\n"
          ],
          "name": "stderr"
        },
        {
          "output_type": "display_data",
          "data": {
            "image/png": "[encoded data removed]",
            "text/plain": [
              "<Figure size 720x360 with 1 Axes>"
            ]
          },
          "metadata": {
            "tags": [],
            "needs_background": "light"
          }
        }
      ]
    },
    {
      "cell_type": "markdown",
      "metadata": {
        "id": "1xp7O74o9jMj"
      },
      "source": [
        "### Observation -2\n",
        "\n",
        "\n",
        "Well, The data is unbalanced as ***Clothing*** has 6000+ counts while even ***Watches*** has less then 600. The proportions are bad. This will lead to a baised machine learning model. \n",
        "\n",
        "\n",
        "\n",
        "> To fix this problem without **Under-sampling**, we would require balanced data. Since we dont have that we can try **Over-sampling** the minorities.\n",
        "\n",
        "But according the my analysis, we dont need to do that because even in the real-world, my data analysis says that the \"Clothing\" is generaly the most sold catergory for Flipkart and vice versa.\n",
        "\n",
        "Now since, the real-world test data would also contain most probably the same proportion, we can get away by doing nothing.\n",
        "\n",
        "*(This is my inital analysis, to have the correct approach, we would need to reasearch more about the shopping trends in Flipkart)*\n",
        "\n",
        "\n",
        "---\n",
        "\n",
        "\n",
        "\n",
        "\n",
        "\n"
      ]
    },
    {
      "cell_type": "markdown",
      "metadata": {
        "id": "QEtNaz6Q6SGO"
      },
      "source": [
        "## Unrequired Data\n",
        "For Now, Let's look at the ineffectual data and see if we can make something useful out of it.\n"
      ]
    },
    {
      "cell_type": "code",
      "metadata": {
        "id": "n_xpqub4Bprw"
      },
      "source": [
        "#Let's see if its even feasible to visualize the categories with least counts\n",
        "bottom_categories=count_of_category(500,bottom=True,List=True)"
      ],
      "execution_count": null,
      "outputs": []
    },
    {
      "cell_type": "code",
      "metadata": {
        "id": "0NS2dEAlJTDN",
        "colab": {
          "base_uri": "https://localhost:8080/"
        },
        "outputId": "a0bff865-74ba-479b-ef68-211b7f4e6004"
      },
      "source": [
        "print(\"The number of categories with count less then 500 :\",len(bottom_categories))"
      ],
      "execution_count": null,
      "outputs": [
        {
          "output_type": "stream",
          "text": [
            "The number of categories with count less then 500 : 254\n"
          ],
          "name": "stdout"
        }
      ]
    },
    {
      "cell_type": "markdown",
      "metadata": {
        "id": "bGGTcv0ZHCDQ"
      },
      "source": [
        "As, we can see we still have 254 rows i.e Unique Categories, it would not be possible to visualize , let's switch to old fashion way, **manually**."
      ]
    },
    {
      "cell_type": "code",
      "metadata": {
        "id": "yASWI_VjH1_0",
        "colab": {
          "base_uri": "https://localhost:8080/"
        },
        "outputId": "23fad9b1-3afd-440e-f43f-17a5845f567d"
      },
      "source": [
        "bottom_categories"
      ],
      "execution_count": null,
      "outputs": [
        {
          "output_type": "execute_result",
          "data": {
            "text/plain": [
              "[('Baby Care', 483),\n",
              " ('Tools & Hardware', 391),\n",
              " ('Toys & School Supplies', 330),\n",
              " ('Pens & Stationery', 313),\n",
              " ('Bags, Wallets & Belts', 265),\n",
              " ('Furniture', 180),\n",
              " ('Sports & Fitness', 166),\n",
              " ('Cameras & Accessories', 82),\n",
              " ('Home Improvement', 81),\n",
              " ('Health & Personal Care Appliances', 43),\n",
              " ('Sunglasses', 40),\n",
              " ('Gaming', 35),\n",
              " ('Pet Supplies', 30),\n",
              " ('Home & Kitchen', 24),\n",
              " ('Home Entertainment', 19),\n",
              " ('eBooks', 15),\n",
              " ('Eyewear', 10),\n",
              " (\"Clovia Women's Full Coverage Bra\", 9),\n",
              " (\"Vishudh Printed Women's Straight Kurta\", 8),\n",
              " (\"Lilliput Top Baby Girl's  Combo\", 8),\n",
              " ('Olvin Aviator Sunglasses', 7),\n",
              " (\"Clovia Women's T-Shirt Bra\", 6),\n",
              " (\"MASARA Solid Women's Straight Kurta\", 5),\n",
              " ('Dressberry Gold Synthetic  Clutch', 4),\n",
              " ('Pu-Good Women Flats', 4),\n",
              " ('FEET FLOW Women Flats', 4),\n",
              " ('Olvin Wayfarer Sunglasses', 4),\n",
              " ('Firangi Cotton, Polyester Free Floor Mat Firangi...', 4),\n",
              " ('Household Supplies', 4),\n",
              " (\"Indistar Self Design Viscose Women's Stole\", 3),\n",
              " ('Treppe Bellies', 3),\n",
              " ('Frabjous German silver Rings For Women Alloy Zir...', 3),\n",
              " ('Pout Brass Bangle', 3),\n",
              " ('Olvin Oval Sunglasses', 3),\n",
              " ('Dilan Jewels Alloy Zircon 18K Yellow Gold Bangle...', 3),\n",
              " (\"Dassler Slim Fit Women's Multicolor Jeans\", 3),\n",
              " (\"Ruhi's Creations Polyester Silk Blend Cartoon Ki...\", 3),\n",
              " ('Food & Nutrition', 2),\n",
              " ('Mast & Harbour Black Synthetic  Clutch', 2),\n",
              " ('Dressberry Black Synthetic  Clutch', 2),\n",
              " ('ANAND ARCHIES Girls Flats', 2),\n",
              " ('Wearable Smart Devices', 2),\n",
              " (\"TSG Breeze Printed Women's Round Neck Multicolor...\", 2),\n",
              " (\"HANS Men's Crew Length Socks\", 2),\n",
              " (\"TIMBERLAKE Slim Fit Fit Women's Brown Jeans\", 2),\n",
              " ('COIRFIT Single Coir Mattress', 2),\n",
              " ('Siyas Collection Lac Cubic Zirconia Bangle Set (...', 2),\n",
              " (\"killys Men's Solid No Show Socks\", 2),\n",
              " ('INDILEGO Women Flats', 2),\n",
              " (\"TIMBERLAKE Slim Fit Fit Women's Red Jeans\", 2),\n",
              " ('Olvin Rectangular Sunglasses', 2),\n",
              " ('D&D Women Flats', 2),\n",
              " (\"Ajaero Slim Fit Women's Dark Blue Jeans\", 2),\n",
              " (\"The Cotton Company Solid Women's Polo Neck Pink ...\", 2),\n",
              " (\"Camey Men's Quarter Length Socks\", 2),\n",
              " (\"fourgee Slim Fit Women's Blue Jeans\", 2),\n",
              " ('Urban Girl Foundation Brush (Pack of 10)', 2),\n",
              " ('Crafty Hands Kutchchi Mirrorwork Tapestry (Maroon)', 2),\n",
              " (\"GALLOWAY skinny Fit Women's Jeans\", 2),\n",
              " (\"EASIES Solid Single Breasted Casual Men's Blazer\", 2),\n",
              " ('Corcepts Universal Tablet HD Ultra Clear Transpa...', 2),\n",
              " ('Eternal Gandhi Super Series Crystal Paper Weight...', 1),\n",
              " ('Bengal Blooms Rose Artificial Plant  with Pot (3...', 1),\n",
              " (\"Vishudh Printed Women's Anarkali Kurta\", 1),\n",
              " ('BuildTrack PIR Wireless Motion Sensor - One Swit...', 1),\n",
              " ('Skayvon SUMMERSIBLE SINGLE PHASE PUMP CONTROLLER...', 1),\n",
              " ('Skayvon SUBMERSIBBLE THREE PHASE PUMP CONTROLLER...', 1),\n",
              " ('Behringer Xenyx 502 Analog Sound Mixer', 1),\n",
              " (\"Noor Embroidered Women's Straight Kurta\", 1),\n",
              " (\"Libas Printed Women's A-line Kurta\", 1),\n",
              " (\"Libas Printed Women's Anarkali Kurta\", 1),\n",
              " ('Cellbazaar Blackberry 8520 WHITE LCD LCD (YIT-562)', 1),\n",
              " (\"Sisel Printed Poly Cotton Women's Stole\", 1),\n",
              " ('Knight Ace Kraasa Sports Running Shoes, Cycling ...', 1),\n",
              " ('Glacier Running Shoes', 1),\n",
              " ('Asics Gel-Cumulus 17 Running Shoes', 1),\n",
              " ('Mast & Harbour Gold Synthetic  Clutch', 1),\n",
              " ('Asics Gel-Kayano 22 Running Shoes', 1),\n",
              " ('Dressberry Orange Synthetic  Clutch', 1),\n",
              " ('Dressberry Green Synthetic  Clutch', 1),\n",
              " ('Escan Lace Up', 1),\n",
              " (\"Nine Maternity Wear Women's Fit and Flare Dress\", 1),\n",
              " ('ANAND ARCHIES Girls Wedges', 1),\n",
              " ('Prime Printed 8 Seater Table Cover (Multicolor, ...', 1),\n",
              " ('Speedwav 240437 Sun Shade For Hyundai i10 (Dashb...', 1),\n",
              " (\"Vitamins Solid Baby Girl's Basic Shorts\", 1),\n",
              " ('Sumo Baby Walker (Red)', 1),\n",
              " (\"Kombee Girl's Printed Red, Pink Top & Capri Set\", 1),\n",
              " ('NEWGEN TECH EO-HS3303 218 Wired Headset (White)', 1),\n",
              " ('Automation & Robotics', 1),\n",
              " ('K&P Dr.Ambedkar Large 04 Showpiece  -  19 cm (Po...', 1),\n",
              " ('K&P Lord Ganesha Large 03 Showpiece  -  19 cm (P...', 1),\n",
              " ('Adidas IND PRO THI GUA Thigh Guard (White, Blue,...', 1),\n",
              " ('Bootwale Bellies', 1),\n",
              " ('clickforsign Avoid Contanimation Wash your Hands...', 1),\n",
              " ('Kanvas Bellies', 1),\n",
              " ('Klaur Melbourne Bellies', 1),\n",
              " ('Clickforsign Vehicles parked Illegally will be t...', 1),\n",
              " ('clickforsign Sound horn Before entering Emergenc...', 1),\n",
              " (\"kem Flow Gold skinny Fit Baby Girl's Blue Jeans\", 1),\n",
              " ('Carbanao Chrome Grill Chevrolet Cruze Car Grill ...', 1),\n",
              " ('Oddy RS 1.5 X 2 100 Sheets Self Stick Reposition...', 1),\n",
              " ('Synergy SFJB0105 Grocery Bag (Blue)', 1),\n",
              " ('SHOPOJ White Paper Sky Lantern (80 cm X 34 cm, P...', 1),\n",
              " (\"SUPERMOD Men's Brief\", 1),\n",
              " ('Zevrr Sterling Silver Swarovski Zirconia Platinu...', 1),\n",
              " ('Rasav Jewels Yellow Gold Diamond 18 K Ring', 1),\n",
              " ('Royal Seal Creations 40 ST COLOR Silver Zircon N...', 1),\n",
              " (\"ANASAZI Casual 3/4 Sleeve Solid Women's Top\", 1),\n",
              " ('INVENTURE RETAIL Nail Cutter', 1),\n",
              " (\"Fabpoppy Printed Women's Jumpsuit\", 1),\n",
              " ('Power Smart Quick Charging Pack For PAN CGR-DU-2...', 1),\n",
              " ('Gking Hand Stiched Steering Cover For Maruti Ert...', 1),\n",
              " ('GM Power mate 4 Strip Surge Protector (White)', 1),\n",
              " ('Shrih SH-0192 Wired USB Flexible Keyboard (Red)', 1),\n",
              " (\"Threads & Pals Full Sleeve Printed, Solid Men's ...\", 1),\n",
              " (\"Threads & Pals Full Sleeve Self Design Men's Swe...\", 1),\n",
              " ('Gking Hand Stiched Steering Cover For Renault Sc...', 1),\n",
              " ('Power Smart Quick Charging Pack For PAN CGR-D28 ...', 1),\n",
              " ('xy decor Cotton Sofa Cover (white Pack of 6)', 1),\n",
              " ('Favourite BikerZ 3514 RAD air filter Ionic Air F...', 1),\n",
              " (\"Disney Printed Baby Boy's Hooded Grey T-Shirt\", 1),\n",
              " (\"Little Stars Girl's A-line Multicolor Dress\", 1),\n",
              " ('The Crazy Me 1 Compartments Eco-Friendly leather...', 1),\n",
              " (\"fourgee Slim Fit Boy's Black Jeans\", 1),\n",
              " (\"Laser X Checkered Men's Boxer (Pack of 4)\", 1),\n",
              " ('INKT INKT A5 Wiro Notebook A5 Notebook Ring Boun...', 1),\n",
              " (\"E'Hiose Girl's Leggings (Pack of 6)\", 1),\n",
              " ('Lucky Thailand GL/ LG30 Glass (300 ml, Clear, Pa...', 1),\n",
              " ('Ocean GP/Pyramid Glass (300 ml, Clear, Pack of 12)', 1),\n",
              " ('Wella Elements Leight Weight Renewing Conditione...', 1),\n",
              " ('classyworld Brass Cufflink (Silver-01)', 1),\n",
              " ('Urban Girl Foundation Brush (Pack of 12)', 1),\n",
              " ('Jazz Eyewears Over-sized Sunglasses', 1),\n",
              " (\"Miss Wow Slim Fit Women's Blue Jeans\", 1),\n",
              " ('SMART TRADERS Women Wedges', 1),\n",
              " (\"PrivateLifes MasterPiece Women's Push-up Bra\", 1),\n",
              " (\"Spa Culture Fit Fit Women's Black Jeans\", 1),\n",
              " (\"run of luck Solid Women's Round Neck Dark Blue T...\", 1),\n",
              " ('SAY UV Sterilizer Solid Filter Cartridge (0, Pac...', 1),\n",
              " ('Urban Girl Foundation Brush (Pack of 7)', 1),\n",
              " (\"Legmark Slim Fit Women's Light Blue Jeans\", 1),\n",
              " (\"piftif Women's Sports Bra\", 1),\n",
              " ('REMSON INDIA Women Flats', 1),\n",
              " (\"Starsy Solid Women's Round Neck Green T-Shirt\", 1),\n",
              " (\"Oly Two Fit Fit Women's Black Jeans\", 1),\n",
              " (\"soie Fashion Women's Sports Bra\", 1),\n",
              " (\"Auraa Men's, Women's Solid No Show Socks\", 1),\n",
              " (\"e-Fresh Boy's Brief (Pack of 5)\", 1),\n",
              " (\"TIMBERLAKE Slim Fit Fit Women's Blue Jeans\", 1),\n",
              " ('NEWGEN TECH EO-HS3303 179 Wired Headset (White)', 1),\n",
              " (\"Attitude Printed Women's Round Neck Black T-Shirt\", 1),\n",
              " ('Kalpaveda Copper Bowl (Gold, Pack of 1)', 1),\n",
              " ('Walkline Slippers', 1),\n",
              " (\"e-Fresh Baby Boy's Brief (Pack of 10)\", 1),\n",
              " ('NEWGEN TECH EO-HS3303 58 Wired Headset (White)', 1),\n",
              " (\"Ruhi's Creations Cotton Floral King sized Double...\", 1),\n",
              " ('SAY Thread Wounded Candle 10\\\\\" Set of 4 pcs Solid...', 1),\n",
              " ('Samprada Modern art Tapestry (Black, Pink)', 1),\n",
              " ('Naaz Dart game Board Game', 1),\n",
              " (\"Oly Two Fit Fit Women's Dark Blue Jeans\", 1),\n",
              " ('classyworld Brass Cufflink (Grey-02)', 1),\n",
              " (\"Viral Girl Women's Full Coverage Bra\", 1),\n",
              " ('Wellon Fittings set (16 pieces) for RO Water Pur...', 1),\n",
              " ('Amita Home Furnishing Cotton Printed Single Beds...', 1),\n",
              " ('Impala Alloy Cufflink (White)', 1),\n",
              " ('Naaz 2 in 1 Paper Quilling Board Game', 1),\n",
              " (\"Starsy Printed Women's Round Neck Black T-Shirt\", 1),\n",
              " (\"Fly U Slim Fit Fit Women's Brown Jeans\", 1),\n",
              " (\"tadd Men's, Women's Ankle Length Socks\", 1),\n",
              " (\"Dolz Slim Fit Fit Women's Brown Jeans\", 1),\n",
              " ('Shrih Toe & Foot Protector Pain Relief Pad (Pack...', 1),\n",
              " (\"LondonHouze Printed Women's Round Neck Grey T-Shirt\", 1),\n",
              " (\"Legmark Slim Fit Women's Blue Jeans\", 1),\n",
              " ('Linzina Fashions LIN-HOSS-1.5 Faucet Set', 1),\n",
              " (\"soie Fashion Women's Full Coverage Bra\", 1),\n",
              " (\"Clovia Women's Plunge Bra\", 1),\n",
              " ('Foot Candy Women Flats', 1),\n",
              " ('Amita Home Furnishing Cotton Floral Single Bedsh...', 1),\n",
              " (\"883 Police Full Sleeve Solid Men's Jacket\", 1),\n",
              " ('Style World Women Flats', 1),\n",
              " ('Just Wow Women Flats', 1),\n",
              " ('SMART TRADERS Women Flats', 1),\n",
              " (\"Ruhi's Creations Cotton Cartoon King sized Doubl...\", 1),\n",
              " ('SJ Bushnell 122/1000M Binoculars (36 mm, Black)', 1),\n",
              " ('SJ Barstel 56m / 1000m Binoculars (30 mm, Black)', 1),\n",
              " ('SJ Comet Zoom DPSI Binoculars (30 mm, Black)', 1),\n",
              " ('Pia International 10X70X70 WITH ZOOM SAKURA Bino...', 1),\n",
              " ('SHOPOJ Purple Paper Sky Lantern (80 cm X 34 cm, ...', 1),\n",
              " ('Car vastra 1pcs Car Vastra Honda Beige Backrest ...', 1),\n",
              " ('SHOPOJ Yellow Paper Sky Lantern (80 cm X 34 cm, ...', 1),\n",
              " ('SHOPOJ Multicolor Paper Sky Lantern (80 cm X 34 ...', 1),\n",
              " ('Sj Bushnell 119M / 1000 Binoculars (36 mm, Black)', 1),\n",
              " (\"FIFO Bottom Women's  Combo\", 1),\n",
              " ('Himmlisch 20503 Car Bottle Holder (Plastic)', 1),\n",
              " ('V&G Professional HD-37 Hair Dryer (Red)', 1),\n",
              " ('Anuradha Art Stylish Hair Clip (Blue)', 1),\n",
              " ('Shonaya Printed Bhagalpuri Art Silk Sari', 1),\n",
              " ('Anuradha Art Stylish Hair Clip (Black)', 1),\n",
              " ('JUSF2 Black Color Hair Band (Multicolor)', 1),\n",
              " ('Sonaxo Men Running Shoes', 1),\n",
              " ('Koie  Battery - For Samsung 7562 Premium Quality...', 1),\n",
              " ('OEM 170774 Bike Side Stand', 1),\n",
              " ('Kittens Boys Flats', 1),\n",
              " ('AutoKraftZ Optimum Locking Device For Bajaj Puls...', 1),\n",
              " ('Dremel 2615.023.132 Plastic Friction Work Bench ...', 1),\n",
              " ('ABEEZ Boys, Men, Girls (Black, Pack of 1)', 1),\n",
              " ('Joyra Heart Sterling Silver Swarovski Crystal, S...', 1),\n",
              " (\"BLM Casual Printed Women's Kurti\", 1),\n",
              " (\"SMART DENIM Solid Women's White Denim Shorts\", 1),\n",
              " ('ATV Pouch for Acer Liquid Z330 (STEEL BLUE)', 1),\n",
              " (\"Be 13 Printed Boy's Round Neck T-Shirt (Pack of 2)\", 1),\n",
              " ('Taurus Black & white Lace Up', 1),\n",
              " ('Abhinl Fashion Cotton Printed Semi-stitched Salw...', 1),\n",
              " (\"UFO Self Design Round Neck Casual Girl's Sweater\", 1),\n",
              " (\"LGRL Women's Leggings\", 1),\n",
              " (\"Breakbounce Men's Vest\", 1),\n",
              " (\"UFO Full Sleeve Solid Girl's Jacket\", 1),\n",
              " ('BALAJI EXPORTS Bottled Wine Cooler (9 Bottles)', 1),\n",
              " ('Siemens 5SL Betagard 5SL MCB (1)', 1),\n",
              " ('Remax Rm-10000 Remax Vanguard 10000mah 10000 mAh...', 1),\n",
              " ('Boreal Roller Brush', 1),\n",
              " ('Srajanaa sr114 Travel Shaving Kit (Black)', 1),\n",
              " (\"Selfcare Women's Thong Panty (Pack of 3)\", 1),\n",
              " ('Sugandh Vatika 24 Natural Masala, Sandal Incense...', 1),\n",
              " ('Arial Morris Women Flats', 1),\n",
              " ('Zikrak Exim Women Wedges', 1),\n",
              " ('Zixtro Bug (Black, Backpack)', 1),\n",
              " (\"New Darling Women's Printed Top & Pyjama Set\", 1),\n",
              " (\"RajeshFashion Women's Leggings\", 1),\n",
              " (\"United Colors of Benetton Girl's Trousers\", 1),\n",
              " ('SRPC BAOER STARWALKER EXECUTIVE ROLLERBALL Pen G...', 1),\n",
              " ('Kraft Seeds Rosemary Herb (Pack Of 5) Seed (75 p...', 1),\n",
              " ('Autoplus M AP15 Arm Sleeve (Black)', 1),\n",
              " ('Autoplus M AP18 Arm Sleeve (Black)', 1),\n",
              " ('Kraft Seeds Thyme Herbs Seed (200 per packet)', 1),\n",
              " ('Kraft Seeds Dill Herb Seed (50 per packet)', 1),\n",
              " (\"Leading lady Women's Camisole\", 1),\n",
              " (\"Yo Baby Girl's Trousers\", 1),\n",
              " ('THERISE MD0005 Wired Headset (Pink)', 1),\n",
              " ('Nut Khut Embroidered Kurta & Churidar', 1),\n",
              " (\"Vinenzia Printed Winter Men's Gloves\", 1),\n",
              " ('Planet Waves Woodstock Strap (Multicolor)', 1),\n",
              " ('Speedwav 216456 Manual Rear View Mirror (Right, ...', 1),\n",
              " ('Speedwav 216510 Manual Rear View Mirror (Right, ...', 1),\n",
              " ('Speedwav 216552 Manual Rear View Mirror (Right, ...', 1),\n",
              " ('Speedwav 186136 Manual Rear View Mirror (Right, ...', 1),\n",
              " ('Small Toes Bellies', 1),\n",
              " ('Clovia Lingerie Set', 1),\n",
              " ('Speedwav 186926 Royal Enfield 350 Twin Spark LED...', 1),\n",
              " ('Speedwav 186879 Bajaj Pulsar 200 NS DTS-i LED In...', 1),\n",
              " (\"Pazel Slim Fit Men's Jeans\", 1),\n",
              " ('SMART TRADERS Girls Bellies', 1),\n",
              " ('Areon Luxurious Fragrance Long Lasting Car,Home,...', 1)]"
            ]
          },
          "metadata": {
            "tags": []
          },
          "execution_count": 355
        }
      ]
    },
    {
      "cell_type": "markdown",
      "metadata": {
        "id": "UpkwXx1dKT6Q"
      },
      "source": [
        "### Manual Inspection Observation:\n",
        "\n",
        "In this Inspection, I noticed that now the categories have product name instead of actual categories (in most cases).\n",
        "Further, the data shows the same trend, large number of clothing and footwear items etc, meaning that even the un-required data speaks the proportion of the orignal and correct one. \n",
        "\n",
        "Since they are unique it would not be possible to clean this data and extract the Primary and Correct category from it. \n",
        "\n",
        "This means, only thing now left is to remove the unrequired data and move forward to the Machine Learning Part.\n",
        "\n",
        "\n",
        "---\n",
        "\n"
      ]
    },
    {
      "cell_type": "markdown",
      "metadata": {
        "id": "i1ydf-KVWHCW"
      },
      "source": [
        "## Cleaning product_category_tree\n",
        "Further Cleaning and setting up the data for Predictions."
      ]
    },
    {
      "cell_type": "code",
      "metadata": {
        "id": "D8Hkn7ulN93V",
        "colab": {
          "base_uri": "https://localhost:8080/",
          "height": 279
        },
        "outputId": "51a6be67-3004-44ea-c1fe-97323b7db916"
      },
      "source": [
        "#making a new column \"primary_category\"  \n",
        "flipkart_data[\"primary_category\"]=primary_category\n",
        "flipkart_data.head()"
      ],
      "execution_count": null,
      "outputs": [
        {
          "output_type": "execute_result",
          "data": {
            "text/html": [
              "<div>\n",
              "<style scoped>\n",
              "    .dataframe tbody tr th:only-of-type {\n",
              "        vertical-align: middle;\n",
              "    }\n",
              "\n",
              "    .dataframe tbody tr th {\n",
              "        vertical-align: top;\n",
              "    }\n",
              "\n",
              "    .dataframe thead th {\n",
              "        text-align: right;\n",
              "    }\n",
              "</style>\n",
              "<table border=\"1\" class=\"dataframe\">\n",
              "  <thead>\n",
              "    <tr style=\"text-align: right;\">\n",
              "      <th></th>\n",
              "      <th>product_name</th>\n",
              "      <th>product_category_tree</th>\n",
              "      <th>description</th>\n",
              "      <th>brand</th>\n",
              "      <th>primary_category</th>\n",
              "    </tr>\n",
              "  </thead>\n",
              "  <tbody>\n",
              "    <tr>\n",
              "      <th>0</th>\n",
              "      <td>Alisha Solid Women's Cycling Shorts</td>\n",
              "      <td>[\"Clothing &gt;&gt; Women's Clothing &gt;&gt; Lingerie, Sl...</td>\n",
              "      <td>Key Features of Alisha Solid Women's Cycling S...</td>\n",
              "      <td>Alisha</td>\n",
              "      <td>Clothing</td>\n",
              "    </tr>\n",
              "    <tr>\n",
              "      <th>1</th>\n",
              "      <td>FabHomeDecor Fabric Double Sofa Bed</td>\n",
              "      <td>[\"Furniture &gt;&gt; Living Room Furniture &gt;&gt; Sofa B...</td>\n",
              "      <td>FabHomeDecor Fabric Double Sofa Bed (Finish Co...</td>\n",
              "      <td>FabHomeDecor</td>\n",
              "      <td>Furniture</td>\n",
              "    </tr>\n",
              "    <tr>\n",
              "      <th>2</th>\n",
              "      <td>AW Bellies</td>\n",
              "      <td>[\"Footwear &gt;&gt; Women's Footwear &gt;&gt; Ballerinas &gt;...</td>\n",
              "      <td>Key Features of AW Bellies Sandals Wedges Heel...</td>\n",
              "      <td>AW</td>\n",
              "      <td>Footwear</td>\n",
              "    </tr>\n",
              "    <tr>\n",
              "      <th>3</th>\n",
              "      <td>Alisha Solid Women's Cycling Shorts</td>\n",
              "      <td>[\"Clothing &gt;&gt; Women's Clothing &gt;&gt; Lingerie, Sl...</td>\n",
              "      <td>Key Features of Alisha Solid Women's Cycling S...</td>\n",
              "      <td>Alisha</td>\n",
              "      <td>Clothing</td>\n",
              "    </tr>\n",
              "    <tr>\n",
              "      <th>4</th>\n",
              "      <td>Sicons All Purpose Arnica Dog Shampoo</td>\n",
              "      <td>[\"Pet Supplies &gt;&gt; Grooming &gt;&gt; Skin &amp; Coat Care...</td>\n",
              "      <td>Specifications of Sicons All Purpose Arnica Do...</td>\n",
              "      <td>Sicons</td>\n",
              "      <td>Pet Supplies</td>\n",
              "    </tr>\n",
              "  </tbody>\n",
              "</table>\n",
              "</div>"
            ],
            "text/plain": [
              "                            product_name  ... primary_category\n",
              "0    Alisha Solid Women's Cycling Shorts  ...         Clothing\n",
              "1    FabHomeDecor Fabric Double Sofa Bed  ...        Furniture\n",
              "2                             AW Bellies  ...         Footwear\n",
              "3    Alisha Solid Women's Cycling Shorts  ...         Clothing\n",
              "4  Sicons All Purpose Arnica Dog Shampoo  ...     Pet Supplies\n",
              "\n",
              "[5 rows x 5 columns]"
            ]
          },
          "metadata": {
            "tags": []
          },
          "execution_count": 356
        }
      ]
    },
    {
      "cell_type": "code",
      "metadata": {
        "id": "cuhRgqZIXauM"
      },
      "source": [
        "#Now there is no need for product_category_tree , so we drop it.\n",
        "flipkart_data.drop(flipkart_data.columns[[1]], axis=1, inplace=True)\n",
        "#removing the 2 null values in 'description' column\n",
        "flipkart_data=flipkart_data.dropna(subset=['description'])"
      ],
      "execution_count": null,
      "outputs": []
    },
    {
      "cell_type": "code",
      "metadata": {
        "colab": {
          "base_uri": "https://localhost:8080/",
          "height": 47
        },
        "id": "3JvJk40oYZFi",
        "outputId": "cc733732-fa33-4091-c7ec-72cb1ecf97d9"
      },
      "source": [
        "#checking the remaning null values in description\n",
        "flipkart_data[flipkart_data['description'].isnull()]"
      ],
      "execution_count": null,
      "outputs": [
        {
          "output_type": "execute_result",
          "data": {
            "text/html": [
              "<div>\n",
              "<style scoped>\n",
              "    .dataframe tbody tr th:only-of-type {\n",
              "        vertical-align: middle;\n",
              "    }\n",
              "\n",
              "    .dataframe tbody tr th {\n",
              "        vertical-align: top;\n",
              "    }\n",
              "\n",
              "    .dataframe thead th {\n",
              "        text-align: right;\n",
              "    }\n",
              "</style>\n",
              "<table border=\"1\" class=\"dataframe\">\n",
              "  <thead>\n",
              "    <tr style=\"text-align: right;\">\n",
              "      <th></th>\n",
              "      <th>product_name</th>\n",
              "      <th>description</th>\n",
              "      <th>brand</th>\n",
              "      <th>primary_category</th>\n",
              "    </tr>\n",
              "  </thead>\n",
              "  <tbody>\n",
              "  </tbody>\n",
              "</table>\n",
              "</div>"
            ],
            "text/plain": [
              "Empty DataFrame\n",
              "Columns: [product_name, description, brand, primary_category]\n",
              "Index: []"
            ]
          },
          "metadata": {
            "tags": []
          },
          "execution_count": 358
        }
      ]
    },
    {
      "cell_type": "code",
      "metadata": {
        "colab": {
          "base_uri": "https://localhost:8080/",
          "height": 402
        },
        "id": "cZHwFdSibAOw",
        "outputId": "18168644-7968-4c64-c292-4cbc48c5d5c4"
      },
      "source": [
        "#checking the remaning null values in the data.\n",
        "flipkart_data[flipkart_data.isnull().any(axis=1)]"
      ],
      "execution_count": null,
      "outputs": [
        {
          "output_type": "execute_result",
          "data": {
            "text/html": [
              "<div>\n",
              "<style scoped>\n",
              "    .dataframe tbody tr th:only-of-type {\n",
              "        vertical-align: middle;\n",
              "    }\n",
              "\n",
              "    .dataframe tbody tr th {\n",
              "        vertical-align: top;\n",
              "    }\n",
              "\n",
              "    .dataframe thead th {\n",
              "        text-align: right;\n",
              "    }\n",
              "</style>\n",
              "<table border=\"1\" class=\"dataframe\">\n",
              "  <thead>\n",
              "    <tr style=\"text-align: right;\">\n",
              "      <th></th>\n",
              "      <th>product_name</th>\n",
              "      <th>description</th>\n",
              "      <th>brand</th>\n",
              "      <th>primary_category</th>\n",
              "    </tr>\n",
              "  </thead>\n",
              "  <tbody>\n",
              "    <tr>\n",
              "      <th>25</th>\n",
              "      <td>Glus Wedding Lingerie Set</td>\n",
              "      <td>Glus Wedding Lingerie Set - Buy Turquoise Glus...</td>\n",
              "      <td>NaN</td>\n",
              "      <td>Clothing</td>\n",
              "    </tr>\n",
              "    <tr>\n",
              "      <th>26</th>\n",
              "      <td>Veelys Shiny White Quad Roller Skates - Size 4...</td>\n",
              "      <td>Veelys Shiny White Quad Roller Skates - Size 4...</td>\n",
              "      <td>NaN</td>\n",
              "      <td>Sports &amp; Fitness</td>\n",
              "    </tr>\n",
              "    <tr>\n",
              "      <th>27</th>\n",
              "      <td>Bulaky vanity case Jewellery Vanity Case</td>\n",
              "      <td>Buy Bulaky vanity case Jewellery Vanity Case f...</td>\n",
              "      <td>NaN</td>\n",
              "      <td>Beauty and Personal Care</td>\n",
              "    </tr>\n",
              "    <tr>\n",
              "      <th>28</th>\n",
              "      <td>FDT Women's Leggings</td>\n",
              "      <td>FDT Women's Leggings - Buy Parrot Green FDT Wo...</td>\n",
              "      <td>NaN</td>\n",
              "      <td>Clothing</td>\n",
              "    </tr>\n",
              "    <tr>\n",
              "      <th>29</th>\n",
              "      <td>Madcaps C38GR30 Men's Cargos</td>\n",
              "      <td>Madcaps C38GR30 Men's Cargos - Buy Green Madca...</td>\n",
              "      <td>NaN</td>\n",
              "      <td>Clothing</td>\n",
              "    </tr>\n",
              "    <tr>\n",
              "      <th>...</th>\n",
              "      <td>...</td>\n",
              "      <td>...</td>\n",
              "      <td>...</td>\n",
              "      <td>...</td>\n",
              "    </tr>\n",
              "    <tr>\n",
              "      <th>19936</th>\n",
              "      <td>Purple Women Heels</td>\n",
              "      <td>Flipkart.com: Buy Purple Women Heels only for ...</td>\n",
              "      <td>NaN</td>\n",
              "      <td>Footwear</td>\n",
              "    </tr>\n",
              "    <tr>\n",
              "      <th>19941</th>\n",
              "      <td>Pinq Chiq Women Heels</td>\n",
              "      <td>Flipkart.com: Buy Pinq Chiq Women Heels only f...</td>\n",
              "      <td>NaN</td>\n",
              "      <td>Footwear</td>\n",
              "    </tr>\n",
              "    <tr>\n",
              "      <th>19953</th>\n",
              "      <td>La Isla Women Heels</td>\n",
              "      <td>Flipkart.com: Buy La Isla Women Heels only for...</td>\n",
              "      <td>NaN</td>\n",
              "      <td>Footwear</td>\n",
              "    </tr>\n",
              "    <tr>\n",
              "      <th>19958</th>\n",
              "      <td>We Witches Comfy Hues Women Wedges</td>\n",
              "      <td>Flipkart.com: Buy We Witches Comfy Hues Women ...</td>\n",
              "      <td>NaN</td>\n",
              "      <td>Footwear</td>\n",
              "    </tr>\n",
              "    <tr>\n",
              "      <th>19962</th>\n",
              "      <td>Stylistry Women Heels</td>\n",
              "      <td>Flipkart.com: Buy Stylistry Women Heels only f...</td>\n",
              "      <td>NaN</td>\n",
              "      <td>Footwear</td>\n",
              "    </tr>\n",
              "  </tbody>\n",
              "</table>\n",
              "<p>5863 rows × 4 columns</p>\n",
              "</div>"
            ],
            "text/plain": [
              "                                            product_name  ...          primary_category\n",
              "25                             Glus Wedding Lingerie Set  ...                  Clothing\n",
              "26     Veelys Shiny White Quad Roller Skates - Size 4...  ...          Sports & Fitness\n",
              "27              Bulaky vanity case Jewellery Vanity Case  ...  Beauty and Personal Care\n",
              "28                                  FDT Women's Leggings  ...                  Clothing\n",
              "29                          Madcaps C38GR30 Men's Cargos  ...                  Clothing\n",
              "...                                                  ...  ...                       ...\n",
              "19936                                 Purple Women Heels  ...                  Footwear\n",
              "19941                              Pinq Chiq Women Heels  ...                  Footwear\n",
              "19953                                La Isla Women Heels  ...                  Footwear\n",
              "19958                 We Witches Comfy Hues Women Wedges  ...                  Footwear\n",
              "19962                              Stylistry Women Heels  ...                  Footwear\n",
              "\n",
              "[5863 rows x 4 columns]"
            ]
          },
          "metadata": {
            "tags": []
          },
          "execution_count": 359
        }
      ]
    },
    {
      "cell_type": "code",
      "metadata": {
        "id": "8JZlftdohSPS"
      },
      "source": [
        ""
      ],
      "execution_count": null,
      "outputs": []
    },
    {
      "cell_type": "markdown",
      "metadata": {
        "id": "CF9LlK3Hb2Ir"
      },
      "source": [
        "\n",
        "\n",
        "---\n",
        "## Categories to use.\n",
        "When we looked at the plot createad using\n",
        "***top_500_category*** , We observed that the data was inbalanced,So our Machine Learning Model will give better accuracy and result if we use categories with large data only. For starters let's only take **Top 10 Categories**.\n"
      ]
    },
    {
      "cell_type": "code",
      "metadata": {
        "colab": {
          "base_uri": "https://localhost:8080/"
        },
        "id": "AWNI70dudCTZ",
        "outputId": "bd2c6f8e-31a2-4431-d7a6-61d881dfdcf3"
      },
      "source": [
        "top_500_category = top_500_category['Category'][0:10]\n",
        "top_10_categories = list(top_500_category)\n",
        "top_10_categories"
      ],
      "execution_count": null,
      "outputs": [
        {
          "output_type": "execute_result",
          "data": {
            "text/plain": [
              "['Clothing',\n",
              " 'Jewellery',\n",
              " 'Footwear',\n",
              " 'Mobiles & Accessories',\n",
              " 'Automotive',\n",
              " 'Home Decor & Festive Needs',\n",
              " 'Beauty and Personal Care',\n",
              " 'Home Furnishing',\n",
              " 'Kitchen & Dining',\n",
              " 'Computers']"
            ]
          },
          "metadata": {
            "tags": []
          },
          "execution_count": 360
        }
      ]
    },
    {
      "cell_type": "code",
      "metadata": {
        "colab": {
          "base_uri": "https://localhost:8080/",
          "height": 402
        },
        "id": "wgyinqS3gzak",
        "outputId": "668602d8-a2b5-4c4f-9913-669511119b71"
      },
      "source": [
        "flipkart_data"
      ],
      "execution_count": null,
      "outputs": [
        {
          "output_type": "execute_result",
          "data": {
            "text/html": [
              "<div>\n",
              "<style scoped>\n",
              "    .dataframe tbody tr th:only-of-type {\n",
              "        vertical-align: middle;\n",
              "    }\n",
              "\n",
              "    .dataframe tbody tr th {\n",
              "        vertical-align: top;\n",
              "    }\n",
              "\n",
              "    .dataframe thead th {\n",
              "        text-align: right;\n",
              "    }\n",
              "</style>\n",
              "<table border=\"1\" class=\"dataframe\">\n",
              "  <thead>\n",
              "    <tr style=\"text-align: right;\">\n",
              "      <th></th>\n",
              "      <th>product_name</th>\n",
              "      <th>description</th>\n",
              "      <th>brand</th>\n",
              "      <th>primary_category</th>\n",
              "    </tr>\n",
              "  </thead>\n",
              "  <tbody>\n",
              "    <tr>\n",
              "      <th>0</th>\n",
              "      <td>Alisha Solid Women's Cycling Shorts</td>\n",
              "      <td>Key Features of Alisha Solid Women's Cycling S...</td>\n",
              "      <td>Alisha</td>\n",
              "      <td>Clothing</td>\n",
              "    </tr>\n",
              "    <tr>\n",
              "      <th>1</th>\n",
              "      <td>FabHomeDecor Fabric Double Sofa Bed</td>\n",
              "      <td>FabHomeDecor Fabric Double Sofa Bed (Finish Co...</td>\n",
              "      <td>FabHomeDecor</td>\n",
              "      <td>Furniture</td>\n",
              "    </tr>\n",
              "    <tr>\n",
              "      <th>2</th>\n",
              "      <td>AW Bellies</td>\n",
              "      <td>Key Features of AW Bellies Sandals Wedges Heel...</td>\n",
              "      <td>AW</td>\n",
              "      <td>Footwear</td>\n",
              "    </tr>\n",
              "    <tr>\n",
              "      <th>3</th>\n",
              "      <td>Alisha Solid Women's Cycling Shorts</td>\n",
              "      <td>Key Features of Alisha Solid Women's Cycling S...</td>\n",
              "      <td>Alisha</td>\n",
              "      <td>Clothing</td>\n",
              "    </tr>\n",
              "    <tr>\n",
              "      <th>4</th>\n",
              "      <td>Sicons All Purpose Arnica Dog Shampoo</td>\n",
              "      <td>Specifications of Sicons All Purpose Arnica Do...</td>\n",
              "      <td>Sicons</td>\n",
              "      <td>Pet Supplies</td>\n",
              "    </tr>\n",
              "    <tr>\n",
              "      <th>...</th>\n",
              "      <td>...</td>\n",
              "      <td>...</td>\n",
              "      <td>...</td>\n",
              "      <td>...</td>\n",
              "    </tr>\n",
              "    <tr>\n",
              "      <th>19995</th>\n",
              "      <td>WallDesign Small Vinyl Sticker</td>\n",
              "      <td>Buy WallDesign Small Vinyl Sticker for Rs.730 ...</td>\n",
              "      <td>WallDesign</td>\n",
              "      <td>Baby Care</td>\n",
              "    </tr>\n",
              "    <tr>\n",
              "      <th>19996</th>\n",
              "      <td>Wallmantra Large Vinyl Stickers Sticker</td>\n",
              "      <td>Buy Wallmantra Large Vinyl Stickers Sticker fo...</td>\n",
              "      <td>Wallmantra</td>\n",
              "      <td>Baby Care</td>\n",
              "    </tr>\n",
              "    <tr>\n",
              "      <th>19997</th>\n",
              "      <td>Elite Collection Medium Acrylic Sticker</td>\n",
              "      <td>Buy Elite Collection Medium Acrylic Sticker fo...</td>\n",
              "      <td>Elite Collection</td>\n",
              "      <td>Baby Care</td>\n",
              "    </tr>\n",
              "    <tr>\n",
              "      <th>19998</th>\n",
              "      <td>Elite Collection Medium Acrylic Sticker</td>\n",
              "      <td>Buy Elite Collection Medium Acrylic Sticker fo...</td>\n",
              "      <td>Elite Collection</td>\n",
              "      <td>Baby Care</td>\n",
              "    </tr>\n",
              "    <tr>\n",
              "      <th>19999</th>\n",
              "      <td>Elite Collection Medium Acrylic Sticker</td>\n",
              "      <td>Buy Elite Collection Medium Acrylic Sticker fo...</td>\n",
              "      <td>Elite Collection</td>\n",
              "      <td>Baby Care</td>\n",
              "    </tr>\n",
              "  </tbody>\n",
              "</table>\n",
              "<p>19998 rows × 4 columns</p>\n",
              "</div>"
            ],
            "text/plain": [
              "                                  product_name  ... primary_category\n",
              "0          Alisha Solid Women's Cycling Shorts  ...         Clothing\n",
              "1          FabHomeDecor Fabric Double Sofa Bed  ...        Furniture\n",
              "2                                   AW Bellies  ...         Footwear\n",
              "3          Alisha Solid Women's Cycling Shorts  ...         Clothing\n",
              "4        Sicons All Purpose Arnica Dog Shampoo  ...     Pet Supplies\n",
              "...                                        ...  ...              ...\n",
              "19995           WallDesign Small Vinyl Sticker  ...        Baby Care\n",
              "19996  Wallmantra Large Vinyl Stickers Sticker  ...        Baby Care\n",
              "19997  Elite Collection Medium Acrylic Sticker  ...        Baby Care\n",
              "19998  Elite Collection Medium Acrylic Sticker  ...        Baby Care\n",
              "19999  Elite Collection Medium Acrylic Sticker  ...        Baby Care\n",
              "\n",
              "[19998 rows x 4 columns]"
            ]
          },
          "metadata": {
            "tags": []
          },
          "execution_count": 361
        }
      ]
    },
    {
      "cell_type": "markdown",
      "metadata": {
        "id": "_CEkcrbRd5m5"
      },
      "source": [
        "Now, We will adjust our flipkart_data to only have these **Top 10 categories**"
      ]
    },
    {
      "cell_type": "code",
      "metadata": {
        "id": "OQhxV89HeHg1"
      },
      "source": [
        "# using 'isin' we filtered our flipkart data to have only top 10 categories\n",
        "flipkart_data= flipkart_data[flipkart_data['primary_category'].isin(top_10_categories)][['product_name','description','brand','primary_category']]"
      ],
      "execution_count": null,
      "outputs": []
    },
    {
      "cell_type": "code",
      "metadata": {
        "colab": {
          "base_uri": "https://localhost:8080/",
          "height": 402
        },
        "id": "DHGjmrnLg5XQ",
        "outputId": "6718d53e-8786-4279-8d95-a6d588ed6bc6"
      },
      "source": [
        "flipkart_data"
      ],
      "execution_count": null,
      "outputs": [
        {
          "output_type": "execute_result",
          "data": {
            "text/html": [
              "<div>\n",
              "<style scoped>\n",
              "    .dataframe tbody tr th:only-of-type {\n",
              "        vertical-align: middle;\n",
              "    }\n",
              "\n",
              "    .dataframe tbody tr th {\n",
              "        vertical-align: top;\n",
              "    }\n",
              "\n",
              "    .dataframe thead th {\n",
              "        text-align: right;\n",
              "    }\n",
              "</style>\n",
              "<table border=\"1\" class=\"dataframe\">\n",
              "  <thead>\n",
              "    <tr style=\"text-align: right;\">\n",
              "      <th></th>\n",
              "      <th>product_name</th>\n",
              "      <th>description</th>\n",
              "      <th>brand</th>\n",
              "      <th>primary_category</th>\n",
              "    </tr>\n",
              "  </thead>\n",
              "  <tbody>\n",
              "    <tr>\n",
              "      <th>0</th>\n",
              "      <td>Alisha Solid Women's Cycling Shorts</td>\n",
              "      <td>Key Features of Alisha Solid Women's Cycling S...</td>\n",
              "      <td>Alisha</td>\n",
              "      <td>Clothing</td>\n",
              "    </tr>\n",
              "    <tr>\n",
              "      <th>2</th>\n",
              "      <td>AW Bellies</td>\n",
              "      <td>Key Features of AW Bellies Sandals Wedges Heel...</td>\n",
              "      <td>AW</td>\n",
              "      <td>Footwear</td>\n",
              "    </tr>\n",
              "    <tr>\n",
              "      <th>3</th>\n",
              "      <td>Alisha Solid Women's Cycling Shorts</td>\n",
              "      <td>Key Features of Alisha Solid Women's Cycling S...</td>\n",
              "      <td>Alisha</td>\n",
              "      <td>Clothing</td>\n",
              "    </tr>\n",
              "    <tr>\n",
              "      <th>6</th>\n",
              "      <td>Alisha Solid Women's Cycling Shorts</td>\n",
              "      <td>Key Features of Alisha Solid Women's Cycling S...</td>\n",
              "      <td>Alisha</td>\n",
              "      <td>Clothing</td>\n",
              "    </tr>\n",
              "    <tr>\n",
              "      <th>8</th>\n",
              "      <td>dilli bazaaar Bellies, Corporate Casuals, Casuals</td>\n",
              "      <td>Key Features of dilli bazaaar Bellies, Corpora...</td>\n",
              "      <td>dilli bazaaar</td>\n",
              "      <td>Footwear</td>\n",
              "    </tr>\n",
              "    <tr>\n",
              "      <th>...</th>\n",
              "      <td>...</td>\n",
              "      <td>...</td>\n",
              "      <td>...</td>\n",
              "      <td>...</td>\n",
              "    </tr>\n",
              "    <tr>\n",
              "      <th>19936</th>\n",
              "      <td>Purple Women Heels</td>\n",
              "      <td>Flipkart.com: Buy Purple Women Heels only for ...</td>\n",
              "      <td>NaN</td>\n",
              "      <td>Footwear</td>\n",
              "    </tr>\n",
              "    <tr>\n",
              "      <th>19941</th>\n",
              "      <td>Pinq Chiq Women Heels</td>\n",
              "      <td>Flipkart.com: Buy Pinq Chiq Women Heels only f...</td>\n",
              "      <td>NaN</td>\n",
              "      <td>Footwear</td>\n",
              "    </tr>\n",
              "    <tr>\n",
              "      <th>19953</th>\n",
              "      <td>La Isla Women Heels</td>\n",
              "      <td>Flipkart.com: Buy La Isla Women Heels only for...</td>\n",
              "      <td>NaN</td>\n",
              "      <td>Footwear</td>\n",
              "    </tr>\n",
              "    <tr>\n",
              "      <th>19958</th>\n",
              "      <td>We Witches Comfy Hues Women Wedges</td>\n",
              "      <td>Flipkart.com: Buy We Witches Comfy Hues Women ...</td>\n",
              "      <td>NaN</td>\n",
              "      <td>Footwear</td>\n",
              "    </tr>\n",
              "    <tr>\n",
              "      <th>19962</th>\n",
              "      <td>Stylistry Women Heels</td>\n",
              "      <td>Flipkart.com: Buy Stylistry Women Heels only f...</td>\n",
              "      <td>NaN</td>\n",
              "      <td>Footwear</td>\n",
              "    </tr>\n",
              "  </tbody>\n",
              "</table>\n",
              "<p>16629 rows × 4 columns</p>\n",
              "</div>"
            ],
            "text/plain": [
              "                                            product_name  ... primary_category\n",
              "0                    Alisha Solid Women's Cycling Shorts  ...         Clothing\n",
              "2                                             AW Bellies  ...         Footwear\n",
              "3                    Alisha Solid Women's Cycling Shorts  ...         Clothing\n",
              "6                    Alisha Solid Women's Cycling Shorts  ...         Clothing\n",
              "8      dilli bazaaar Bellies, Corporate Casuals, Casuals  ...         Footwear\n",
              "...                                                  ...  ...              ...\n",
              "19936                                 Purple Women Heels  ...         Footwear\n",
              "19941                              Pinq Chiq Women Heels  ...         Footwear\n",
              "19953                                La Isla Women Heels  ...         Footwear\n",
              "19958                 We Witches Comfy Hues Women Wedges  ...         Footwear\n",
              "19962                              Stylistry Women Heels  ...         Footwear\n",
              "\n",
              "[16629 rows x 4 columns]"
            ]
          },
          "metadata": {
            "tags": []
          },
          "execution_count": 363
        }
      ]
    },
    {
      "cell_type": "code",
      "metadata": {
        "colab": {
          "base_uri": "https://localhost:8080/",
          "height": 166
        },
        "id": "rC5v_UOHiLxC",
        "outputId": "cd2ccbb3-78ab-4d1c-9c14-1728a6c4152e"
      },
      "source": [
        "# Verification\n",
        "flipkart_data.describe()"
      ],
      "execution_count": null,
      "outputs": [
        {
          "output_type": "execute_result",
          "data": {
            "text/html": [
              "<div>\n",
              "<style scoped>\n",
              "    .dataframe tbody tr th:only-of-type {\n",
              "        vertical-align: middle;\n",
              "    }\n",
              "\n",
              "    .dataframe tbody tr th {\n",
              "        vertical-align: top;\n",
              "    }\n",
              "\n",
              "    .dataframe thead th {\n",
              "        text-align: right;\n",
              "    }\n",
              "</style>\n",
              "<table border=\"1\" class=\"dataframe\">\n",
              "  <thead>\n",
              "    <tr style=\"text-align: right;\">\n",
              "      <th></th>\n",
              "      <th>product_name</th>\n",
              "      <th>description</th>\n",
              "      <th>brand</th>\n",
              "      <th>primary_category</th>\n",
              "    </tr>\n",
              "  </thead>\n",
              "  <tbody>\n",
              "    <tr>\n",
              "      <th>count</th>\n",
              "      <td>16629</td>\n",
              "      <td>16629</td>\n",
              "      <td>11832</td>\n",
              "      <td>16629</td>\n",
              "    </tr>\n",
              "    <tr>\n",
              "      <th>unique</th>\n",
              "      <td>10217</td>\n",
              "      <td>14455</td>\n",
              "      <td>2755</td>\n",
              "      <td>10</td>\n",
              "    </tr>\n",
              "    <tr>\n",
              "      <th>top</th>\n",
              "      <td>TheLostPuppy Back Cover for Apple iPad Air</td>\n",
              "      <td>TheLostPuppy Back Cover for Apple iPad Air (Mu...</td>\n",
              "      <td>Allure Auto</td>\n",
              "      <td>Clothing</td>\n",
              "    </tr>\n",
              "    <tr>\n",
              "      <th>freq</th>\n",
              "      <td>134</td>\n",
              "      <td>92</td>\n",
              "      <td>469</td>\n",
              "      <td>6197</td>\n",
              "    </tr>\n",
              "  </tbody>\n",
              "</table>\n",
              "</div>"
            ],
            "text/plain": [
              "                                      product_name  ... primary_category\n",
              "count                                        16629  ...            16629\n",
              "unique                                       10217  ...               10\n",
              "top     TheLostPuppy Back Cover for Apple iPad Air  ...         Clothing\n",
              "freq                                           134  ...             6197\n",
              "\n",
              "[4 rows x 4 columns]"
            ]
          },
          "metadata": {
            "tags": []
          },
          "execution_count": 364
        }
      ]
    },
    {
      "cell_type": "markdown",
      "metadata": {
        "id": "VWu5-PYKbg5B"
      },
      "source": [
        "## Attempt to Increase Accuracy\n",
        "\n",
        "Now, we can merge the product_name, description and brand column to create a single feature. This is an attempt to increase the accuracy of the model, using more than just the description."
      ]
    },
    {
      "cell_type": "code",
      "metadata": {
        "colab": {
          "base_uri": "https://localhost:8080/",
          "height": 402
        },
        "id": "JOdCWPZsbO4S",
        "outputId": "6eec735d-46c1-4d33-ca6b-3397751f3a9d"
      },
      "source": [
        "#let's make a copy of orginal data \n",
        "flipkart_data_merged=flipkart_data.copy()\n",
        "flipkart_data_merged"
      ],
      "execution_count": null,
      "outputs": [
        {
          "output_type": "execute_result",
          "data": {
            "text/html": [
              "<div>\n",
              "<style scoped>\n",
              "    .dataframe tbody tr th:only-of-type {\n",
              "        vertical-align: middle;\n",
              "    }\n",
              "\n",
              "    .dataframe tbody tr th {\n",
              "        vertical-align: top;\n",
              "    }\n",
              "\n",
              "    .dataframe thead th {\n",
              "        text-align: right;\n",
              "    }\n",
              "</style>\n",
              "<table border=\"1\" class=\"dataframe\">\n",
              "  <thead>\n",
              "    <tr style=\"text-align: right;\">\n",
              "      <th></th>\n",
              "      <th>product_name</th>\n",
              "      <th>description</th>\n",
              "      <th>brand</th>\n",
              "      <th>primary_category</th>\n",
              "    </tr>\n",
              "  </thead>\n",
              "  <tbody>\n",
              "    <tr>\n",
              "      <th>0</th>\n",
              "      <td>Alisha Solid Women's Cycling Shorts</td>\n",
              "      <td>Key Features of Alisha Solid Women's Cycling S...</td>\n",
              "      <td>Alisha</td>\n",
              "      <td>Clothing</td>\n",
              "    </tr>\n",
              "    <tr>\n",
              "      <th>2</th>\n",
              "      <td>AW Bellies</td>\n",
              "      <td>Key Features of AW Bellies Sandals Wedges Heel...</td>\n",
              "      <td>AW</td>\n",
              "      <td>Footwear</td>\n",
              "    </tr>\n",
              "    <tr>\n",
              "      <th>3</th>\n",
              "      <td>Alisha Solid Women's Cycling Shorts</td>\n",
              "      <td>Key Features of Alisha Solid Women's Cycling S...</td>\n",
              "      <td>Alisha</td>\n",
              "      <td>Clothing</td>\n",
              "    </tr>\n",
              "    <tr>\n",
              "      <th>6</th>\n",
              "      <td>Alisha Solid Women's Cycling Shorts</td>\n",
              "      <td>Key Features of Alisha Solid Women's Cycling S...</td>\n",
              "      <td>Alisha</td>\n",
              "      <td>Clothing</td>\n",
              "    </tr>\n",
              "    <tr>\n",
              "      <th>8</th>\n",
              "      <td>dilli bazaaar Bellies, Corporate Casuals, Casuals</td>\n",
              "      <td>Key Features of dilli bazaaar Bellies, Corpora...</td>\n",
              "      <td>dilli bazaaar</td>\n",
              "      <td>Footwear</td>\n",
              "    </tr>\n",
              "    <tr>\n",
              "      <th>...</th>\n",
              "      <td>...</td>\n",
              "      <td>...</td>\n",
              "      <td>...</td>\n",
              "      <td>...</td>\n",
              "    </tr>\n",
              "    <tr>\n",
              "      <th>19936</th>\n",
              "      <td>Purple Women Heels</td>\n",
              "      <td>Flipkart.com: Buy Purple Women Heels only for ...</td>\n",
              "      <td>NaN</td>\n",
              "      <td>Footwear</td>\n",
              "    </tr>\n",
              "    <tr>\n",
              "      <th>19941</th>\n",
              "      <td>Pinq Chiq Women Heels</td>\n",
              "      <td>Flipkart.com: Buy Pinq Chiq Women Heels only f...</td>\n",
              "      <td>NaN</td>\n",
              "      <td>Footwear</td>\n",
              "    </tr>\n",
              "    <tr>\n",
              "      <th>19953</th>\n",
              "      <td>La Isla Women Heels</td>\n",
              "      <td>Flipkart.com: Buy La Isla Women Heels only for...</td>\n",
              "      <td>NaN</td>\n",
              "      <td>Footwear</td>\n",
              "    </tr>\n",
              "    <tr>\n",
              "      <th>19958</th>\n",
              "      <td>We Witches Comfy Hues Women Wedges</td>\n",
              "      <td>Flipkart.com: Buy We Witches Comfy Hues Women ...</td>\n",
              "      <td>NaN</td>\n",
              "      <td>Footwear</td>\n",
              "    </tr>\n",
              "    <tr>\n",
              "      <th>19962</th>\n",
              "      <td>Stylistry Women Heels</td>\n",
              "      <td>Flipkart.com: Buy Stylistry Women Heels only f...</td>\n",
              "      <td>NaN</td>\n",
              "      <td>Footwear</td>\n",
              "    </tr>\n",
              "  </tbody>\n",
              "</table>\n",
              "<p>16629 rows × 4 columns</p>\n",
              "</div>"
            ],
            "text/plain": [
              "                                            product_name  ... primary_category\n",
              "0                    Alisha Solid Women's Cycling Shorts  ...         Clothing\n",
              "2                                             AW Bellies  ...         Footwear\n",
              "3                    Alisha Solid Women's Cycling Shorts  ...         Clothing\n",
              "6                    Alisha Solid Women's Cycling Shorts  ...         Clothing\n",
              "8      dilli bazaaar Bellies, Corporate Casuals, Casuals  ...         Footwear\n",
              "...                                                  ...  ...              ...\n",
              "19936                                 Purple Women Heels  ...         Footwear\n",
              "19941                              Pinq Chiq Women Heels  ...         Footwear\n",
              "19953                                La Isla Women Heels  ...         Footwear\n",
              "19958                 We Witches Comfy Hues Women Wedges  ...         Footwear\n",
              "19962                              Stylistry Women Heels  ...         Footwear\n",
              "\n",
              "[16629 rows x 4 columns]"
            ]
          },
          "metadata": {
            "tags": []
          },
          "execution_count": 365
        }
      ]
    },
    {
      "cell_type": "code",
      "metadata": {
        "id": "pbjZ5bSqg3TT"
      },
      "source": [
        "# Merging the columns using string property\n",
        "flipkart_data_merged['text']= flipkart_data_merged['brand'].astype(str) +\" \"+ flipkart_data_merged['product_name'].astype(str) + \" \" + flipkart_data_merged['description'].astype(str)\n",
        "\n",
        "#created a new single feature 'text'"
      ],
      "execution_count": null,
      "outputs": []
    },
    {
      "cell_type": "code",
      "metadata": {
        "id": "158cMiOH9sT4"
      },
      "source": [
        "#Dropping unrequired Columns\n",
        "flipkart_data_merged.drop(flipkart_data_merged.columns[[0,1,2]], axis=1, inplace=True)"
      ],
      "execution_count": null,
      "outputs": []
    },
    {
      "cell_type": "code",
      "metadata": {
        "colab": {
          "base_uri": "https://localhost:8080/",
          "height": 402
        },
        "id": "WjC51yJjD7G4",
        "outputId": "a8fc6967-3e65-4e04-ebf4-0e17e9be497c"
      },
      "source": [
        "flipkart_data_merged"
      ],
      "execution_count": null,
      "outputs": [
        {
          "output_type": "execute_result",
          "data": {
            "text/html": [
              "<div>\n",
              "<style scoped>\n",
              "    .dataframe tbody tr th:only-of-type {\n",
              "        vertical-align: middle;\n",
              "    }\n",
              "\n",
              "    .dataframe tbody tr th {\n",
              "        vertical-align: top;\n",
              "    }\n",
              "\n",
              "    .dataframe thead th {\n",
              "        text-align: right;\n",
              "    }\n",
              "</style>\n",
              "<table border=\"1\" class=\"dataframe\">\n",
              "  <thead>\n",
              "    <tr style=\"text-align: right;\">\n",
              "      <th></th>\n",
              "      <th>primary_category</th>\n",
              "      <th>text</th>\n",
              "    </tr>\n",
              "  </thead>\n",
              "  <tbody>\n",
              "    <tr>\n",
              "      <th>0</th>\n",
              "      <td>Clothing</td>\n",
              "      <td>Alisha Alisha Solid Women's Cycling Shorts Key...</td>\n",
              "    </tr>\n",
              "    <tr>\n",
              "      <th>2</th>\n",
              "      <td>Footwear</td>\n",
              "      <td>AW AW Bellies Key Features of AW Bellies Sanda...</td>\n",
              "    </tr>\n",
              "    <tr>\n",
              "      <th>3</th>\n",
              "      <td>Clothing</td>\n",
              "      <td>Alisha Alisha Solid Women's Cycling Shorts Key...</td>\n",
              "    </tr>\n",
              "    <tr>\n",
              "      <th>6</th>\n",
              "      <td>Clothing</td>\n",
              "      <td>Alisha Alisha Solid Women's Cycling Shorts Key...</td>\n",
              "    </tr>\n",
              "    <tr>\n",
              "      <th>8</th>\n",
              "      <td>Footwear</td>\n",
              "      <td>dilli bazaaar dilli bazaaar Bellies, Corporate...</td>\n",
              "    </tr>\n",
              "    <tr>\n",
              "      <th>...</th>\n",
              "      <td>...</td>\n",
              "      <td>...</td>\n",
              "    </tr>\n",
              "    <tr>\n",
              "      <th>19936</th>\n",
              "      <td>Footwear</td>\n",
              "      <td>nan Purple Women Heels Flipkart.com: Buy Purpl...</td>\n",
              "    </tr>\n",
              "    <tr>\n",
              "      <th>19941</th>\n",
              "      <td>Footwear</td>\n",
              "      <td>nan Pinq Chiq Women Heels Flipkart.com: Buy Pi...</td>\n",
              "    </tr>\n",
              "    <tr>\n",
              "      <th>19953</th>\n",
              "      <td>Footwear</td>\n",
              "      <td>nan La Isla Women Heels Flipkart.com: Buy La I...</td>\n",
              "    </tr>\n",
              "    <tr>\n",
              "      <th>19958</th>\n",
              "      <td>Footwear</td>\n",
              "      <td>nan We Witches Comfy Hues Women Wedges Flipkar...</td>\n",
              "    </tr>\n",
              "    <tr>\n",
              "      <th>19962</th>\n",
              "      <td>Footwear</td>\n",
              "      <td>nan Stylistry Women Heels Flipkart.com: Buy St...</td>\n",
              "    </tr>\n",
              "  </tbody>\n",
              "</table>\n",
              "<p>16629 rows × 2 columns</p>\n",
              "</div>"
            ],
            "text/plain": [
              "      primary_category                                               text\n",
              "0             Clothing  Alisha Alisha Solid Women's Cycling Shorts Key...\n",
              "2             Footwear  AW AW Bellies Key Features of AW Bellies Sanda...\n",
              "3             Clothing  Alisha Alisha Solid Women's Cycling Shorts Key...\n",
              "6             Clothing  Alisha Alisha Solid Women's Cycling Shorts Key...\n",
              "8             Footwear  dilli bazaaar dilli bazaaar Bellies, Corporate...\n",
              "...                ...                                                ...\n",
              "19936         Footwear  nan Purple Women Heels Flipkart.com: Buy Purpl...\n",
              "19941         Footwear  nan Pinq Chiq Women Heels Flipkart.com: Buy Pi...\n",
              "19953         Footwear  nan La Isla Women Heels Flipkart.com: Buy La I...\n",
              "19958         Footwear  nan We Witches Comfy Hues Women Wedges Flipkar...\n",
              "19962         Footwear  nan Stylistry Women Heels Flipkart.com: Buy St...\n",
              "\n",
              "[16629 rows x 2 columns]"
            ]
          },
          "metadata": {
            "tags": []
          },
          "execution_count": 368
        }
      ]
    },
    {
      "cell_type": "code",
      "metadata": {
        "colab": {
          "base_uri": "https://localhost:8080/",
          "height": 402
        },
        "id": "noFhi9IZCr-Z",
        "outputId": "176a66b5-0394-48bd-a075-5e56fc415a82"
      },
      "source": [
        "# reindex the 'text' column in front\n",
        "flipkart_data_merged=flipkart_data_merged.reindex(['text','primary_category'],axis=\"columns\")\n",
        "flipkart_data_merged"
      ],
      "execution_count": null,
      "outputs": [
        {
          "output_type": "execute_result",
          "data": {
            "text/html": [
              "<div>\n",
              "<style scoped>\n",
              "    .dataframe tbody tr th:only-of-type {\n",
              "        vertical-align: middle;\n",
              "    }\n",
              "\n",
              "    .dataframe tbody tr th {\n",
              "        vertical-align: top;\n",
              "    }\n",
              "\n",
              "    .dataframe thead th {\n",
              "        text-align: right;\n",
              "    }\n",
              "</style>\n",
              "<table border=\"1\" class=\"dataframe\">\n",
              "  <thead>\n",
              "    <tr style=\"text-align: right;\">\n",
              "      <th></th>\n",
              "      <th>text</th>\n",
              "      <th>primary_category</th>\n",
              "    </tr>\n",
              "  </thead>\n",
              "  <tbody>\n",
              "    <tr>\n",
              "      <th>0</th>\n",
              "      <td>Alisha Alisha Solid Women's Cycling Shorts Key...</td>\n",
              "      <td>Clothing</td>\n",
              "    </tr>\n",
              "    <tr>\n",
              "      <th>2</th>\n",
              "      <td>AW AW Bellies Key Features of AW Bellies Sanda...</td>\n",
              "      <td>Footwear</td>\n",
              "    </tr>\n",
              "    <tr>\n",
              "      <th>3</th>\n",
              "      <td>Alisha Alisha Solid Women's Cycling Shorts Key...</td>\n",
              "      <td>Clothing</td>\n",
              "    </tr>\n",
              "    <tr>\n",
              "      <th>6</th>\n",
              "      <td>Alisha Alisha Solid Women's Cycling Shorts Key...</td>\n",
              "      <td>Clothing</td>\n",
              "    </tr>\n",
              "    <tr>\n",
              "      <th>8</th>\n",
              "      <td>dilli bazaaar dilli bazaaar Bellies, Corporate...</td>\n",
              "      <td>Footwear</td>\n",
              "    </tr>\n",
              "    <tr>\n",
              "      <th>...</th>\n",
              "      <td>...</td>\n",
              "      <td>...</td>\n",
              "    </tr>\n",
              "    <tr>\n",
              "      <th>19936</th>\n",
              "      <td>nan Purple Women Heels Flipkart.com: Buy Purpl...</td>\n",
              "      <td>Footwear</td>\n",
              "    </tr>\n",
              "    <tr>\n",
              "      <th>19941</th>\n",
              "      <td>nan Pinq Chiq Women Heels Flipkart.com: Buy Pi...</td>\n",
              "      <td>Footwear</td>\n",
              "    </tr>\n",
              "    <tr>\n",
              "      <th>19953</th>\n",
              "      <td>nan La Isla Women Heels Flipkart.com: Buy La I...</td>\n",
              "      <td>Footwear</td>\n",
              "    </tr>\n",
              "    <tr>\n",
              "      <th>19958</th>\n",
              "      <td>nan We Witches Comfy Hues Women Wedges Flipkar...</td>\n",
              "      <td>Footwear</td>\n",
              "    </tr>\n",
              "    <tr>\n",
              "      <th>19962</th>\n",
              "      <td>nan Stylistry Women Heels Flipkart.com: Buy St...</td>\n",
              "      <td>Footwear</td>\n",
              "    </tr>\n",
              "  </tbody>\n",
              "</table>\n",
              "<p>16629 rows × 2 columns</p>\n",
              "</div>"
            ],
            "text/plain": [
              "                                                    text primary_category\n",
              "0      Alisha Alisha Solid Women's Cycling Shorts Key...         Clothing\n",
              "2      AW AW Bellies Key Features of AW Bellies Sanda...         Footwear\n",
              "3      Alisha Alisha Solid Women's Cycling Shorts Key...         Clothing\n",
              "6      Alisha Alisha Solid Women's Cycling Shorts Key...         Clothing\n",
              "8      dilli bazaaar dilli bazaaar Bellies, Corporate...         Footwear\n",
              "...                                                  ...              ...\n",
              "19936  nan Purple Women Heels Flipkart.com: Buy Purpl...         Footwear\n",
              "19941  nan Pinq Chiq Women Heels Flipkart.com: Buy Pi...         Footwear\n",
              "19953  nan La Isla Women Heels Flipkart.com: Buy La I...         Footwear\n",
              "19958  nan We Witches Comfy Hues Women Wedges Flipkar...         Footwear\n",
              "19962  nan Stylistry Women Heels Flipkart.com: Buy St...         Footwear\n",
              "\n",
              "[16629 rows x 2 columns]"
            ]
          },
          "metadata": {
            "tags": []
          },
          "execution_count": 369
        }
      ]
    },
    {
      "cell_type": "code",
      "metadata": {
        "id": "6UHmrJIGM1ne"
      },
      "source": [
        "# Let's use only \"description\" column to predict the categories \n",
        "flipkart_data.drop(flipkart_data.columns[[0,2]], axis=1, inplace=True)"
      ],
      "execution_count": null,
      "outputs": []
    },
    {
      "cell_type": "code",
      "metadata": {
        "colab": {
          "base_uri": "https://localhost:8080/",
          "height": 402
        },
        "id": "42p3EO7_NIvM",
        "outputId": "1af9ea8b-090d-4434-e204-6b8d9a049bdf"
      },
      "source": [
        "flipkart_data"
      ],
      "execution_count": null,
      "outputs": [
        {
          "output_type": "execute_result",
          "data": {
            "text/html": [
              "<div>\n",
              "<style scoped>\n",
              "    .dataframe tbody tr th:only-of-type {\n",
              "        vertical-align: middle;\n",
              "    }\n",
              "\n",
              "    .dataframe tbody tr th {\n",
              "        vertical-align: top;\n",
              "    }\n",
              "\n",
              "    .dataframe thead th {\n",
              "        text-align: right;\n",
              "    }\n",
              "</style>\n",
              "<table border=\"1\" class=\"dataframe\">\n",
              "  <thead>\n",
              "    <tr style=\"text-align: right;\">\n",
              "      <th></th>\n",
              "      <th>description</th>\n",
              "      <th>primary_category</th>\n",
              "    </tr>\n",
              "  </thead>\n",
              "  <tbody>\n",
              "    <tr>\n",
              "      <th>0</th>\n",
              "      <td>Key Features of Alisha Solid Women's Cycling S...</td>\n",
              "      <td>Clothing</td>\n",
              "    </tr>\n",
              "    <tr>\n",
              "      <th>2</th>\n",
              "      <td>Key Features of AW Bellies Sandals Wedges Heel...</td>\n",
              "      <td>Footwear</td>\n",
              "    </tr>\n",
              "    <tr>\n",
              "      <th>3</th>\n",
              "      <td>Key Features of Alisha Solid Women's Cycling S...</td>\n",
              "      <td>Clothing</td>\n",
              "    </tr>\n",
              "    <tr>\n",
              "      <th>6</th>\n",
              "      <td>Key Features of Alisha Solid Women's Cycling S...</td>\n",
              "      <td>Clothing</td>\n",
              "    </tr>\n",
              "    <tr>\n",
              "      <th>8</th>\n",
              "      <td>Key Features of dilli bazaaar Bellies, Corpora...</td>\n",
              "      <td>Footwear</td>\n",
              "    </tr>\n",
              "    <tr>\n",
              "      <th>...</th>\n",
              "      <td>...</td>\n",
              "      <td>...</td>\n",
              "    </tr>\n",
              "    <tr>\n",
              "      <th>19936</th>\n",
              "      <td>Flipkart.com: Buy Purple Women Heels only for ...</td>\n",
              "      <td>Footwear</td>\n",
              "    </tr>\n",
              "    <tr>\n",
              "      <th>19941</th>\n",
              "      <td>Flipkart.com: Buy Pinq Chiq Women Heels only f...</td>\n",
              "      <td>Footwear</td>\n",
              "    </tr>\n",
              "    <tr>\n",
              "      <th>19953</th>\n",
              "      <td>Flipkart.com: Buy La Isla Women Heels only for...</td>\n",
              "      <td>Footwear</td>\n",
              "    </tr>\n",
              "    <tr>\n",
              "      <th>19958</th>\n",
              "      <td>Flipkart.com: Buy We Witches Comfy Hues Women ...</td>\n",
              "      <td>Footwear</td>\n",
              "    </tr>\n",
              "    <tr>\n",
              "      <th>19962</th>\n",
              "      <td>Flipkart.com: Buy Stylistry Women Heels only f...</td>\n",
              "      <td>Footwear</td>\n",
              "    </tr>\n",
              "  </tbody>\n",
              "</table>\n",
              "<p>16629 rows × 2 columns</p>\n",
              "</div>"
            ],
            "text/plain": [
              "                                             description primary_category\n",
              "0      Key Features of Alisha Solid Women's Cycling S...         Clothing\n",
              "2      Key Features of AW Bellies Sandals Wedges Heel...         Footwear\n",
              "3      Key Features of Alisha Solid Women's Cycling S...         Clothing\n",
              "6      Key Features of Alisha Solid Women's Cycling S...         Clothing\n",
              "8      Key Features of dilli bazaaar Bellies, Corpora...         Footwear\n",
              "...                                                  ...              ...\n",
              "19936  Flipkart.com: Buy Purple Women Heels only for ...         Footwear\n",
              "19941  Flipkart.com: Buy Pinq Chiq Women Heels only f...         Footwear\n",
              "19953  Flipkart.com: Buy La Isla Women Heels only for...         Footwear\n",
              "19958  Flipkart.com: Buy We Witches Comfy Hues Women ...         Footwear\n",
              "19962  Flipkart.com: Buy Stylistry Women Heels only f...         Footwear\n",
              "\n",
              "[16629 rows x 2 columns]"
            ]
          },
          "metadata": {
            "tags": []
          },
          "execution_count": 371
        }
      ]
    },
    {
      "cell_type": "markdown",
      "metadata": {
        "id": "URC27Fg4EOgi"
      },
      "source": [
        "## Conclusion \n",
        "Now, we have two data, one with features megered into single column ***text*** \n",
        "\n",
        "```\n",
        "flipkart_data_merged\n",
        "```\n",
        "and other\n",
        "\n",
        "\n",
        "\n",
        "```\n",
        "flipkart_data\n",
        "```\n",
        "\n",
        "\n",
        " with just **description** column, we will now check which data performs better.\n",
        "\n",
        "\n",
        " (***Initial assumption*** : **flipkart_data_merged** will tend to perform better as Brand and product name is essential to define its category). \n",
        "\n",
        "** Things to keep in mind : **\n",
        "\n",
        "\n",
        "1.   *flipkart_data_merged* has word 'nan' due to empty brand columns. We can take care of that and other words like \"Buy\",\"Key Features\" etc in stopwords.\n",
        "2.   *flipkart_data* on the other hand has only \"description\" as a feature.\n",
        "\n"
      ]
    },
    {
      "cell_type": "markdown",
      "metadata": {
        "id": "V23W6W6XItUH"
      },
      "source": [
        "# Machine Learning\n",
        "\n",
        "Now since our data is clean and ready to be used.\n",
        "We can go ahead and decide the algorithm to use.\n",
        "\n",
        "I will use **Naive Bayes** algorithm based on Bayes’ theorem.\n",
        "\n",
        "### Reason to use Naive Bayes.\n",
        "This problem is of Multi-class classification,\n",
        "So we need a classifer to define categories to the product based on text/description, Naive bayes is well suited for that, It's easy to implement and works well on small data.\n",
        "Other Algorithm that we can try is Linear Support Vector Classifier.\n",
        "\n",
        "cite;https://analyticsindiamag.com/7-types-classification-algorithms/\n"
      ]
    },
    {
      "cell_type": "code",
      "metadata": {
        "colab": {
          "base_uri": "https://localhost:8080/"
        },
        "id": "Tb5CLGp5Isbc",
        "outputId": "e5df81aa-71c8-4b09-a104-a2df2e64742c"
      },
      "source": [
        "from nltk.corpus import stopwords\n",
        "nltk.download('stopwords')\n",
        "from nltk.tokenize import word_tokenize\n",
        "import string # for removing punctuations in string"
      ],
      "execution_count": null,
      "outputs": [
        {
          "output_type": "stream",
          "text": [
            "[nltk_data] Downloading package stopwords to /root/nltk_data...\n",
            "[nltk_data]   Package stopwords is already up-to-date!\n"
          ],
          "name": "stdout"
        }
      ]
    },
    {
      "cell_type": "code",
      "metadata": {
        "id": "2nJkeNWVPWlN"
      },
      "source": [
        "#adding custom stopwords \n",
        "# custom stopwords are selected from manual inspection\n",
        "new_stopwords = [\"buy\", \"features\", \"key\", \"specifications\",\"nan\",\"NaN\"]\n",
        "\n",
        "#extending the stopwords with custom stopwords\n",
        "stpwrd = nltk.corpus.stopwords.words('english')\n",
        "stpwrd.extend(new_stopwords)"
      ],
      "execution_count": null,
      "outputs": []
    },
    {
      "cell_type": "code",
      "metadata": {
        "id": "0-ZZcQaoRJ8C"
      },
      "source": [
        "# This class preprocesses the text for us using tokenizer and stopwords.\n",
        "# it also removes punctuations if there are any.\n",
        "class PreProcessText(object):\n",
        "    def __init__(self):\n",
        "        pass\n",
        "    \n",
        "    def __remove_punctuation(self, text):\n",
        "        \"\"\"\n",
        "        Takes a String \n",
        "        return : Return a String \n",
        "        \"\"\"\n",
        "        message = []\n",
        "        for x in text:\n",
        "            #Using String Library\n",
        "            if x in string.punctuation:\n",
        "                pass\n",
        "            else:\n",
        "                message.append(x)\n",
        "        message = ''.join(message)\n",
        "        \n",
        "        return message\n",
        "    \n",
        "    def __remove_stopwords(self, text):\n",
        "        \"\"\"\n",
        "        Takes a String\n",
        "        return List\n",
        "        \"\"\"\n",
        "        words= []\n",
        "        for x in text.split():\n",
        "\n",
        "            #our custom stpwrd\n",
        "            if x.lower() in stpwrd:\n",
        "                pass\n",
        "            else:\n",
        "                words.append(x)\n",
        "        return words\n",
        "    \n",
        "    \n",
        "    def token_words(self,text=''):\n",
        "        \"\"\"\n",
        "        Takes String\n",
        "        Return Token also called  list of words that is used to \n",
        "        Train the Model \n",
        "        \"\"\"\n",
        "        message = self.__remove_punctuation(text)\n",
        "        words = self.__remove_stopwords(message)\n",
        "        return words"
      ],
      "execution_count": null,
      "outputs": []
    },
    {
      "cell_type": "markdown",
      "metadata": {
        "id": "lztnUtdQSud3"
      },
      "source": [
        "### **flipkart_data**\n",
        "First we will use flipkart_data for our model."
      ]
    },
    {
      "cell_type": "code",
      "metadata": {
        "id": "kKUdSkB7Sa0u"
      },
      "source": [
        "obj = PreProcessText()\n",
        "flipkart_data[\"description\"]=flipkart_data[\"description\"].apply(obj.token_words)"
      ],
      "execution_count": null,
      "outputs": []
    },
    {
      "cell_type": "code",
      "metadata": {
        "colab": {
          "base_uri": "https://localhost:8080/"
        },
        "id": "KoWX9ojUWhYV",
        "outputId": "6a13b3b6-1d81-4c4a-8372-46600d299e3b"
      },
      "source": [
        "flipkart_data[\"description\"]"
      ],
      "execution_count": null,
      "outputs": [
        {
          "output_type": "execute_result",
          "data": {
            "text/plain": [
              "0        [Alisha, Solid, Womens, Cycling, Shorts, Cotto...\n",
              "2        [AW, Bellies, Sandals, Wedges, Heel, CasualsAW...\n",
              "3        [Alisha, Solid, Womens, Cycling, Shorts, Cotto...\n",
              "6        [Alisha, Solid, Womens, Cycling, Shorts, Cotto...\n",
              "8        [dilli, bazaaar, Bellies, Corporate, Casuals, ...\n",
              "                               ...                        \n",
              "19936    [Flipkartcom, Purple, Women, Heels, Rs, 899, F...\n",
              "19941    [Flipkartcom, Pinq, Chiq, Women, Heels, Rs, 76...\n",
              "19953    [Flipkartcom, La, Isla, Women, Heels, Rs, 779,...\n",
              "19958    [Flipkartcom, Witches, Comfy, Hues, Women, Wed...\n",
              "19962    [Flipkartcom, Stylistry, Women, Heels, Rs, 499...\n",
              "Name: description, Length: 16629, dtype: object"
            ]
          },
          "metadata": {
            "tags": []
          },
          "execution_count": 376
        }
      ]
    },
    {
      "cell_type": "markdown",
      "metadata": {
        "id": "JmY_h1t8XCGn"
      },
      "source": [
        "Now, we can go forward and split the data into test and train."
      ]
    },
    {
      "cell_type": "code",
      "metadata": {
        "id": "fcXj8EcLXQmT"
      },
      "source": [
        "from sklearn.model_selection import train_test_split\n",
        "X_train, X_test, y_train, y_test = train_test_split(flipkart_data[\"description\"],flipkart_data[\"primary_category\"], test_size=0.33)\n"
      ],
      "execution_count": null,
      "outputs": []
    },
    {
      "cell_type": "code",
      "metadata": {
        "colab": {
          "base_uri": "https://localhost:8080/"
        },
        "id": "XovgEdIeo53j",
        "outputId": "d2199060-c457-4e0d-9066-c28ebdb9fe19"
      },
      "source": [
        "X_train"
      ],
      "execution_count": null,
      "outputs": [
        {
          "output_type": "execute_result",
          "data": {
            "text/plain": [
              "17236    [YugshaJewels, Brass, Ruby, Cubic, Zirconia, Y...\n",
              "6691     [Homefoster, Bone, Necklace, Homefoster, Bone,...\n",
              "15642    [DeStudio, Tiny, Wall, Sticker, Price, Rs, 399...\n",
              "17915    [Gharonda, Showpiece, 15, cm, Wooden, Steel, M...\n",
              "8642     [Lapguard, HP, Pavilion, dv51005ef, 6, Cell, L...\n",
              "                               ...                        \n",
              "15617    [Shop24decor, Polyester, Sky, Blue, Self, Desi...\n",
              "2818     [Vaishna, Fashion, Womens, Full, Coverage, Bra...\n",
              "6155     [Joyeria, Milan, Resin, Necklace, Joyeria, Mil...\n",
              "4772     [Allure, Auto, CM, 1827, Car, Mat, Tata, Victa...\n",
              "4549     [Vinnis, Pretty, Please, Metal, Acrylic, Alloy...\n",
              "Name: description, Length: 11141, dtype: object"
            ]
          },
          "metadata": {
            "tags": []
          },
          "execution_count": 378
        }
      ]
    },
    {
      "cell_type": "markdown",
      "metadata": {
        "id": "yp5SIr66pFFX"
      },
      "source": [
        "This is a list, but we need to send String not list to TfidfVectorizer and CountVectorizer in further code, otherwise it will break"
      ]
    },
    {
      "cell_type": "code",
      "metadata": {
        "id": "o9vjvSkno2YQ"
      },
      "source": [
        "X_train=X_train.apply(lambda x: ' '.join(x))\n",
        "X_test=X_test.apply(lambda x: ' '.join(x))\n"
      ],
      "execution_count": null,
      "outputs": []
    },
    {
      "cell_type": "code",
      "metadata": {
        "colab": {
          "base_uri": "https://localhost:8080/"
        },
        "id": "9byhIxb1pt1L",
        "outputId": "8b30b68c-6d46-41cf-b491-eab3e0f6179a"
      },
      "source": [
        "#check\n",
        "X_test"
      ],
      "execution_count": null,
      "outputs": [
        {
          "output_type": "execute_result",
          "data": {
            "text/plain": [
              "4318     Allure Auto CM 1445 Car Mat Ford Ikon Rs1599 o...\n",
              "79       Mario Gotze Womens Printed Casual Orange Shirt...\n",
              "4208     Allure Auto CM 414 Car Mat Toyota Etios Rs920 ...\n",
              "6045     DLink DWR1113G Router WAN Auto Failure Rs 2310...\n",
              "7901     Vero Moda Regular Fit Womens Trousers Type Chi...\n",
              "                               ...                        \n",
              "5963     Falconoverseas Fashion Brass Choker Falconover...\n",
              "13922    Nimya Solid Mens Polo Neck TShirt Red Nimya So...\n",
              "18954    KASCN UNIVERSAL ARMY TYPE ONE SIDED BAG MOTORC...\n",
              "19039    FreeHand Solid Mens Straight Kurta Choco Strai...\n",
              "13141    DailyObjects Back Cover Apple iPad 234 Red Pri...\n",
              "Name: description, Length: 5488, dtype: object"
            ]
          },
          "metadata": {
            "tags": []
          },
          "execution_count": 380
        }
      ]
    },
    {
      "cell_type": "markdown",
      "metadata": {
        "id": "-TAPlMhAYss6"
      },
      "source": [
        "Now, we need to convert text data into vectors as model can process only numerical data.\n",
        "\n",
        "**Two methods that we can use are**\n",
        "\n",
        "1.   TfidfVectorizer \n",
        "2.   CountVectorizer \n",
        "\n",
        "To decide which one is better for our data,we can simply use both and try."
      ]
    },
    {
      "cell_type": "code",
      "metadata": {
        "id": "12grnZTQZIIQ"
      },
      "source": [
        "from sklearn.feature_extraction.text import TfidfVectorizer \n",
        "from sklearn.feature_extraction.text import CountVectorizer\n",
        "#Importing the ML model\n",
        "from sklearn.naive_bayes import MultinomialNB\n",
        "from sklearn.pipeline import make_pipeline\n",
        "from sklearn.metrics import classification_report"
      ],
      "execution_count": null,
      "outputs": []
    },
    {
      "cell_type": "markdown",
      "metadata": {
        "id": "oCYuHbcJZf7j"
      },
      "source": [
        "#### TfidfVectorizer "
      ]
    },
    {
      "cell_type": "code",
      "metadata": {
        "id": "GUjLuvNVZr7S"
      },
      "source": [
        "# we will use pipeline to make our model of TfidfVectorizer and MultinomialNB\n",
        "model=make_pipeline(TfidfVectorizer(),MultinomialNB())\n",
        "#Training our model\n",
        "model.fit(X_train,y_train)\n",
        "prediction_tfid=model.predict(X_test)"
      ],
      "execution_count": null,
      "outputs": []
    },
    {
      "cell_type": "code",
      "metadata": {
        "colab": {
          "base_uri": "https://localhost:8080/"
        },
        "id": "8VKBMMRJqLjH",
        "outputId": "74afa04d-82ca-45f4-9d97-c5afdb5a62e4"
      },
      "source": [
        "from sklearn.metrics import accuracy_score\n",
        "\n",
        "print(\"Accuracy Score for flipkart_Data using Tfid : \",accuracy_score(y_test,prediction_tfid))"
      ],
      "execution_count": null,
      "outputs": [
        {
          "output_type": "stream",
          "text": [
            "Accuracy Score for flipkart_Data using Tfid :  0.9158163265306123\n"
          ],
          "name": "stdout"
        }
      ]
    },
    {
      "cell_type": "markdown",
      "metadata": {
        "id": "s4Td2Cd2sFN0"
      },
      "source": [
        "####  CountVectorizer"
      ]
    },
    {
      "cell_type": "code",
      "metadata": {
        "id": "NmzWXtgorn5n"
      },
      "source": [
        "# we will use pipeline to make our model of TfidfVectorizer and MultinomialNB\n",
        "model_2 = make_pipeline(CountVectorizer(),MultinomialNB())\n",
        "#Training our model\n",
        "model_2.fit(X_train,y_train)\n",
        "prediction_countV = model_2.predict(X_test)"
      ],
      "execution_count": null,
      "outputs": []
    },
    {
      "cell_type": "code",
      "metadata": {
        "colab": {
          "base_uri": "https://localhost:8080/"
        },
        "id": "ztervRKAsZu1",
        "outputId": "3f329a72-ad2c-4b1f-f856-a2853cccf055"
      },
      "source": [
        "print(\"Accuracy Score for flipkart_Data using Count : \",accuracy_score(y_test,prediction_countV))"
      ],
      "execution_count": null,
      "outputs": [
        {
          "output_type": "stream",
          "text": [
            "Accuracy Score for flipkart_Data using Count :  0.9721209912536443\n"
          ],
          "name": "stdout"
        }
      ]
    },
    {
      "cell_type": "code",
      "metadata": {
        "colab": {
          "base_uri": "https://localhost:8080/"
        },
        "id": "cD3BNgw5s8R2",
        "outputId": "e0fcbd17-a18f-484c-be4d-0909c5976b6b"
      },
      "source": [
        "print(classification_report(y_test,prediction_countV))"
      ],
      "execution_count": null,
      "outputs": [
        {
          "output_type": "stream",
          "text": [
            "                            precision    recall  f1-score   support\n",
            "\n",
            "                Automotive       0.96      0.99      0.98       332\n",
            "  Beauty and Personal Care       0.93      0.93      0.93       236\n",
            "                  Clothing       1.00      1.00      1.00      2068\n",
            "                 Computers       0.94      0.73      0.82       164\n",
            "                  Footwear       1.00      0.95      0.97       402\n",
            "Home Decor & Festive Needs       0.96      0.99      0.97       303\n",
            "           Home Furnishing       0.99      0.99      0.99       243\n",
            "                 Jewellery       0.93      1.00      0.96      1181\n",
            "          Kitchen & Dining       1.00      0.88      0.94       226\n",
            "     Mobiles & Accessories       0.98      0.93      0.95       333\n",
            "\n",
            "                  accuracy                           0.97      5488\n",
            "                 macro avg       0.97      0.94      0.95      5488\n",
            "              weighted avg       0.97      0.97      0.97      5488\n",
            "\n"
          ],
          "name": "stdout"
        }
      ]
    },
    {
      "cell_type": "markdown",
      "metadata": {
        "id": "0IatPfErsswY"
      },
      "source": [
        "### flipkart_data_merged\n",
        "\n",
        "Now we will use the flipkart_data_merged with brand, product_name and description merged into \"text\"."
      ]
    },
    {
      "cell_type": "code",
      "metadata": {
        "colab": {
          "base_uri": "https://localhost:8080/",
          "height": 402
        },
        "id": "l2IpQOVc1YtN",
        "outputId": "c5185f76-e128-45dd-d574-927f154c759c"
      },
      "source": [
        "flipkart_data_merged"
      ],
      "execution_count": null,
      "outputs": [
        {
          "output_type": "execute_result",
          "data": {
            "text/html": [
              "<div>\n",
              "<style scoped>\n",
              "    .dataframe tbody tr th:only-of-type {\n",
              "        vertical-align: middle;\n",
              "    }\n",
              "\n",
              "    .dataframe tbody tr th {\n",
              "        vertical-align: top;\n",
              "    }\n",
              "\n",
              "    .dataframe thead th {\n",
              "        text-align: right;\n",
              "    }\n",
              "</style>\n",
              "<table border=\"1\" class=\"dataframe\">\n",
              "  <thead>\n",
              "    <tr style=\"text-align: right;\">\n",
              "      <th></th>\n",
              "      <th>text</th>\n",
              "      <th>primary_category</th>\n",
              "    </tr>\n",
              "  </thead>\n",
              "  <tbody>\n",
              "    <tr>\n",
              "      <th>0</th>\n",
              "      <td>Alisha Alisha Solid Women's Cycling Shorts Key...</td>\n",
              "      <td>Clothing</td>\n",
              "    </tr>\n",
              "    <tr>\n",
              "      <th>2</th>\n",
              "      <td>AW AW Bellies Key Features of AW Bellies Sanda...</td>\n",
              "      <td>Footwear</td>\n",
              "    </tr>\n",
              "    <tr>\n",
              "      <th>3</th>\n",
              "      <td>Alisha Alisha Solid Women's Cycling Shorts Key...</td>\n",
              "      <td>Clothing</td>\n",
              "    </tr>\n",
              "    <tr>\n",
              "      <th>6</th>\n",
              "      <td>Alisha Alisha Solid Women's Cycling Shorts Key...</td>\n",
              "      <td>Clothing</td>\n",
              "    </tr>\n",
              "    <tr>\n",
              "      <th>8</th>\n",
              "      <td>dilli bazaaar dilli bazaaar Bellies, Corporate...</td>\n",
              "      <td>Footwear</td>\n",
              "    </tr>\n",
              "    <tr>\n",
              "      <th>...</th>\n",
              "      <td>...</td>\n",
              "      <td>...</td>\n",
              "    </tr>\n",
              "    <tr>\n",
              "      <th>19936</th>\n",
              "      <td>nan Purple Women Heels Flipkart.com: Buy Purpl...</td>\n",
              "      <td>Footwear</td>\n",
              "    </tr>\n",
              "    <tr>\n",
              "      <th>19941</th>\n",
              "      <td>nan Pinq Chiq Women Heels Flipkart.com: Buy Pi...</td>\n",
              "      <td>Footwear</td>\n",
              "    </tr>\n",
              "    <tr>\n",
              "      <th>19953</th>\n",
              "      <td>nan La Isla Women Heels Flipkart.com: Buy La I...</td>\n",
              "      <td>Footwear</td>\n",
              "    </tr>\n",
              "    <tr>\n",
              "      <th>19958</th>\n",
              "      <td>nan We Witches Comfy Hues Women Wedges Flipkar...</td>\n",
              "      <td>Footwear</td>\n",
              "    </tr>\n",
              "    <tr>\n",
              "      <th>19962</th>\n",
              "      <td>nan Stylistry Women Heels Flipkart.com: Buy St...</td>\n",
              "      <td>Footwear</td>\n",
              "    </tr>\n",
              "  </tbody>\n",
              "</table>\n",
              "<p>16629 rows × 2 columns</p>\n",
              "</div>"
            ],
            "text/plain": [
              "                                                    text primary_category\n",
              "0      Alisha Alisha Solid Women's Cycling Shorts Key...         Clothing\n",
              "2      AW AW Bellies Key Features of AW Bellies Sanda...         Footwear\n",
              "3      Alisha Alisha Solid Women's Cycling Shorts Key...         Clothing\n",
              "6      Alisha Alisha Solid Women's Cycling Shorts Key...         Clothing\n",
              "8      dilli bazaaar dilli bazaaar Bellies, Corporate...         Footwear\n",
              "...                                                  ...              ...\n",
              "19936  nan Purple Women Heels Flipkart.com: Buy Purpl...         Footwear\n",
              "19941  nan Pinq Chiq Women Heels Flipkart.com: Buy Pi...         Footwear\n",
              "19953  nan La Isla Women Heels Flipkart.com: Buy La I...         Footwear\n",
              "19958  nan We Witches Comfy Hues Women Wedges Flipkar...         Footwear\n",
              "19962  nan Stylistry Women Heels Flipkart.com: Buy St...         Footwear\n",
              "\n",
              "[16629 rows x 2 columns]"
            ]
          },
          "metadata": {
            "tags": []
          },
          "execution_count": 387
        }
      ]
    },
    {
      "cell_type": "code",
      "metadata": {
        "id": "YvGOf6Da1Ppv"
      },
      "source": [
        "obj = PreProcessText()\n",
        "flipkart_data_merged[\"text\"]=flipkart_data_merged[\"text\"].apply(obj.token_words)"
      ],
      "execution_count": null,
      "outputs": []
    },
    {
      "cell_type": "code",
      "metadata": {
        "colab": {
          "base_uri": "https://localhost:8080/"
        },
        "id": "f7aKIksw1Wn5",
        "outputId": "e386819c-63b4-4150-b90e-091780762204"
      },
      "source": [
        "flipkart_data_merged['text']"
      ],
      "execution_count": null,
      "outputs": [
        {
          "output_type": "execute_result",
          "data": {
            "text/plain": [
              "0        [Alisha, Alisha, Solid, Womens, Cycling, Short...\n",
              "2        [AW, AW, Bellies, AW, Bellies, Sandals, Wedges...\n",
              "3        [Alisha, Alisha, Solid, Womens, Cycling, Short...\n",
              "6        [Alisha, Alisha, Solid, Womens, Cycling, Short...\n",
              "8        [dilli, bazaaar, dilli, bazaaar, Bellies, Corp...\n",
              "                               ...                        \n",
              "19936    [Purple, Women, Heels, Flipkartcom, Purple, Wo...\n",
              "19941    [Pinq, Chiq, Women, Heels, Flipkartcom, Pinq, ...\n",
              "19953    [La, Isla, Women, Heels, Flipkartcom, La, Isla...\n",
              "19958    [Witches, Comfy, Hues, Women, Wedges, Flipkart...\n",
              "19962    [Stylistry, Women, Heels, Flipkartcom, Stylist...\n",
              "Name: text, Length: 16629, dtype: object"
            ]
          },
          "metadata": {
            "tags": []
          },
          "execution_count": 389
        }
      ]
    },
    {
      "cell_type": "markdown",
      "metadata": {
        "id": "TD8WPxwg1-T1"
      },
      "source": [
        "Now, we can go forward and split the data into test and train."
      ]
    },
    {
      "cell_type": "code",
      "metadata": {
        "id": "EH1b0X0-1-3A"
      },
      "source": [
        "from sklearn.model_selection import train_test_split\n",
        "X_train, X_test, y_train, y_test = train_test_split(flipkart_data_merged[\"text\"],flipkart_data_merged[\"primary_category\"], test_size=0.33)"
      ],
      "execution_count": null,
      "outputs": []
    },
    {
      "cell_type": "code",
      "metadata": {
        "id": "6vyRBfyf2Jip"
      },
      "source": [
        "X_train=X_train.apply(lambda x: ' '.join(x))\n",
        "X_test=X_test.apply(lambda x: ' '.join(x))"
      ],
      "execution_count": null,
      "outputs": []
    },
    {
      "cell_type": "code",
      "metadata": {
        "colab": {
          "base_uri": "https://localhost:8080/"
        },
        "id": "U1YP4bsg2NlW",
        "outputId": "c76e6612-ba37-4df4-d980-239d98580460"
      },
      "source": [
        "X_train"
      ],
      "execution_count": null,
      "outputs": [
        {
          "output_type": "execute_result",
          "data": {
            "text/plain": [
              "12716    Sukkhi Sukkhi Alloy Yellow Gold Bangle Set Suk...\n",
              "3896     Shree Homdecor Shree Homdecor Floor rangoli Sh...\n",
              "13707    Foolzy Pack 24 Lipsticks 84 g Flipkartcom Fool...\n",
              "2752     Pink Grafion Grafion Comfort Feel Womens Full ...\n",
              "13419    Enthopia Enthopia Back Cover iPad 2 iPad 3 iPa...\n",
              "                               ...                        \n",
              "16304    Mobirite Mobirite High Speed 6 1 White USB USB...\n",
              "15288    Pearl Paradise Pearl Paradise Ink drop Swarovs...\n",
              "15993    DeStudio DeStudio Tiny Wall Sticker DeStudio T...\n",
              "16864    Muchmore Muchmore Alloy Sterling Silver Charm ...\n",
              "11026    HomeeHub HomeeHub Polyester Multicolor Self De...\n",
              "Name: text, Length: 11141, dtype: object"
            ]
          },
          "metadata": {
            "tags": []
          },
          "execution_count": 392
        }
      ]
    },
    {
      "cell_type": "markdown",
      "metadata": {
        "id": "cvdcjkv_2XR5"
      },
      "source": [
        "#### TfidfVecorizer"
      ]
    },
    {
      "cell_type": "code",
      "metadata": {
        "id": "yjLOOQwp2bxo"
      },
      "source": [
        "# we will use pipeline to make our model of TfidfVectorizer and MultinomialNB\n",
        "model=make_pipeline(TfidfVectorizer(),MultinomialNB())\n",
        "#Training our model\n",
        "model.fit(X_train,y_train)\n",
        "prediction_tfid=model.predict(X_test)"
      ],
      "execution_count": null,
      "outputs": []
    },
    {
      "cell_type": "code",
      "metadata": {
        "colab": {
          "base_uri": "https://localhost:8080/"
        },
        "id": "fAyE6m0b2jSQ",
        "outputId": "d8d8ab72-371d-42cb-92b6-d13bcb720213"
      },
      "source": [
        "from sklearn.metrics import accuracy_score\n",
        "\n",
        "print(\"Accuracy Score for flipkart_data_merged using Tfid : \",accuracy_score(y_test,prediction_tfid)) # Expected higher result than flipkart_data"
      ],
      "execution_count": null,
      "outputs": [
        {
          "output_type": "stream",
          "text": [
            "Accuracy Score for flipkart_data_merged using Tfid :  0.942966472303207\n"
          ],
          "name": "stdout"
        }
      ]
    },
    {
      "cell_type": "markdown",
      "metadata": {
        "id": "9x20tbIS29Ig"
      },
      "source": [
        "####  CountVectorizer"
      ]
    },
    {
      "cell_type": "code",
      "metadata": {
        "id": "V4bumMOZ2wt2"
      },
      "source": [
        "# we will use pipeline to make our model of TfidfVectorizer and MultinomialNB\n",
        "model_2 = make_pipeline(CountVectorizer(),MultinomialNB())\n",
        "#Training our model\n",
        "model_2.fit(X_train,y_train)\n",
        "prediction_countV = model_2.predict(X_test)"
      ],
      "execution_count": null,
      "outputs": []
    },
    {
      "cell_type": "code",
      "metadata": {
        "colab": {
          "base_uri": "https://localhost:8080/"
        },
        "id": "iFpXqOb33BvE",
        "outputId": "11f0170b-e746-4211-86cb-d2e143ac27c8"
      },
      "source": [
        "print(\"Accuracy Score for flipkart_data_mereged using Count : \",accuracy_score(y_test,prediction_countV)) \n",
        "#Expects Higher result than flipkart_data_mereged"
      ],
      "execution_count": null,
      "outputs": [
        {
          "output_type": "stream",
          "text": [
            "Accuracy Score for flipkart_data_mereged using Count :  0.9865160349854227\n"
          ],
          "name": "stdout"
        }
      ]
    },
    {
      "cell_type": "code",
      "metadata": {
        "colab": {
          "base_uri": "https://localhost:8080/"
        },
        "id": "35kqSxuy3SI4",
        "outputId": "c9b899e7-069f-4f30-d504-567508425c64"
      },
      "source": [
        "print(classification_report(y_test,prediction_countV))"
      ],
      "execution_count": null,
      "outputs": [
        {
          "output_type": "stream",
          "text": [
            "                            precision    recall  f1-score   support\n",
            "\n",
            "                Automotive       0.96      1.00      0.98       317\n",
            "  Beauty and Personal Care       0.96      0.96      0.96       217\n",
            "                  Clothing       1.00      1.00      1.00      2028\n",
            "                 Computers       0.92      0.95      0.94       187\n",
            "                  Footwear       1.00      0.99      0.99       384\n",
            "Home Decor & Festive Needs       0.95      0.99      0.97       334\n",
            "           Home Furnishing       0.99      1.00      0.99       232\n",
            "                 Jewellery       0.99      1.00      0.99      1186\n",
            "          Kitchen & Dining       0.99      0.89      0.94       233\n",
            "     Mobiles & Accessories       0.99      0.96      0.98       370\n",
            "\n",
            "                  accuracy                           0.99      5488\n",
            "                 macro avg       0.98      0.97      0.97      5488\n",
            "              weighted avg       0.99      0.99      0.99      5488\n",
            "\n"
          ],
          "name": "stdout"
        }
      ]
    },
    {
      "cell_type": "markdown",
      "metadata": {
        "id": "UUVUZ96N8RdA"
      },
      "source": [
        "# **Summary**\n",
        "\n",
        "\n",
        "---\n",
        "\n",
        "\n",
        "As Expected, using **flipkart_data_merge** gave us better result than without merging the 'brand', 'product_name' and 'description'.\n",
        "\n",
        "Best Result:\n",
        "*Accuracy Score for flipkart_data_mereged using Count :  0.9865160349854227*\n",
        "\n",
        "We obtained this result using **flipkart_data_merge** and **CountVectorizer**.\n",
        "\n",
        "We don't need to explore other Machine learning models as Naive Bayes gave us 0.98 accuracy.\n",
        "\n",
        "\n",
        "\n",
        "---\n",
        "\n",
        "\n",
        "\n"
      ]
    }
  ]
}